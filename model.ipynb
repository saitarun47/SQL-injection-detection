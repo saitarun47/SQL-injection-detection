{
 "cells": [
  {
   "cell_type": "code",
   "execution_count": 1,
   "id": "0b8511fb",
   "metadata": {},
   "outputs": [
    {
     "name": "stdout",
     "output_type": "stream",
     "text": [
      "tarun\n",
      "train\n",
      "[0]\n"
     ]
    }
   ],
   "source": [
    "import pandas as pd  # Data manipulation\n",
    "from nltk.corpus import stopwords\n",
    "from sklearn.feature_extraction.text import CountVectorizer\n",
    "from sklearn.model_selection import train_test_split\n",
    "from sklearn.naive_bayes import MultinomialNB\n",
    "\n",
    "def train_model(path):\n",
    "    df = pd.read_csv(path, encoding='utf-16')\n",
    "    df = df.fillna('')\n",
    "\n",
    "    # vectorization of data\n",
    "    vectorizer = CountVectorizer(min_df=2, max_df=0.7, max_features=4096, stop_words=stopwords.words('english'))\n",
    "    posts = vectorizer.fit_transform(df['Sentence'].values.astype('U')).toarray()\n",
    "\n",
    "    print('train')\n",
    "\n",
    "    X_train, X_test, y_train, y_test = train_test_split(df.Sentence, df.Label, test_size=0.2)\n",
    "   \n",
    "    X_train_cv = vectorizer.fit_transform(X_train.values)\n",
    "    X_train_np = X_train_cv.toarray()\n",
    "\n",
    "    model = MultinomialNB()\n",
    "    model.fit(X_train_cv, y_train)\n",
    "    return model,vectorizer\n",
    "    \n",
    "def check(value, model, vectorizer):\n",
    "    Sentence = [value]\n",
    "    Sentence_count = vectorizer.transform(Sentence)\n",
    "    return model.predict(Sentence_count)\n",
    "\n",
    "str=input()\n",
    "\n",
    "model,vectorizer = train_model(r\"C:/Users/tanuj/Downloads/sqli.csv\")\n",
    "\n",
    "print(check(str,model=model,vectorizer=vectorizer))"
   ]
  },
  {
   "cell_type": "code",
   "execution_count": 5,
   "id": "8497e362",
   "metadata": {},
   "outputs": [
    {
     "ename": "NameError",
     "evalue": "name 'X_test' is not defined",
     "output_type": "error",
     "traceback": [
      "\u001b[1;31m---------------------------------------------------------------------------\u001b[0m",
      "\u001b[1;31mNameError\u001b[0m                                 Traceback (most recent call last)",
      "Cell \u001b[1;32mIn[5], line 1\u001b[0m\n\u001b[1;32m----> 1\u001b[0m y_pred\u001b[38;5;241m=\u001b[39mmodel\u001b[38;5;241m.\u001b[39mpredict(X_test)\n\u001b[0;32m      3\u001b[0m \u001b[38;5;28;01mfrom\u001b[39;00m \u001b[38;5;21;01msklearn\u001b[39;00m\u001b[38;5;21;01m.\u001b[39;00m\u001b[38;5;21;01mmetrics\u001b[39;00m \u001b[38;5;28;01mimport\u001b[39;00m accuracy_score,classification_report\n\u001b[0;32m      5\u001b[0m \u001b[38;5;28mprint\u001b[39m(classification_report(y_test,y_test))\n",
      "\u001b[1;31mNameError\u001b[0m: name 'X_test' is not defined"
     ]
    }
   ],
   "source": [
    "y_pred=model.predict(X_test)\n",
    "\n",
    "from sklearn.metrics import accuracy_score,classification_report\n",
    "\n",
    "print(classification_report(y_test,y_test))"
   ]
  },
  {
   "cell_type": "code",
   "execution_count": null,
   "id": "eee9d78d",
   "metadata": {},
   "outputs": [],
   "source": [
    "import pandas as pd  # Data manipulation\n",
    "from nltk.corpus import stopwords\n",
    "from sklearn.feature_extraction.text import CountVectorizer\n",
    "from sklearn.model_selection import train_test_split\n",
    "from sklearn.naive_bayes import MultinomialNB\n",
    "from sklearn.metrics import accuracy_score\n",
    "\n",
    "def train_model(path):\n",
    "    df = pd.read_csv(path, encoding='utf-16')\n",
    "    df = df.fillna('')\n",
    "\n",
    "    # Vectorization of data\n",
    "    vectorizer = CountVectorizer(min_df=2, max_df=0.7, max_features=4096, stop_words=stopwords.words('english'))\n",
    "    posts = vectorizer.fit_transform(df['Sentence'].values.astype('U')).toarray()\n",
    "\n",
    "    X_train, X_test, y_train, y_test = train_test_split(posts, df.Label, test_size=0.2)\n",
    "   \n",
    "    model = MultinomialNB()\n",
    "    model.fit(X_train, y_train)\n",
    "\n",
    "    # Calculate accuracy\n",
    "    y_pred = model.predict(X_test)\n",
    "    accuracy = accuracy_score(y_test, y_pred)\n",
    "    print(\"Accuracy:\", accuracy)\n",
    "\n",
    "    return model, vectorizer\n",
    "    \n",
    "\n",
    "\n"
   ]
  },
  {
   "cell_type": "code",
   "execution_count": null,
   "id": "8bc6c17f",
   "metadata": {},
   "outputs": [],
   "source": []
  }
 ],
 "metadata": {
  "kernelspec": {
   "display_name": "Python 3 (ipykernel)",
   "language": "python",
   "name": "python3"
  },
  "language_info": {
   "codemirror_mode": {
    "name": "ipython",
    "version": 3
   },
   "file_extension": ".py",
   "mimetype": "text/x-python",
   "name": "python",
   "nbconvert_exporter": "python",
   "pygments_lexer": "ipython3",
   "version": "3.11.5"
  }
 },
 "nbformat": 4,
 "nbformat_minor": 5
}
